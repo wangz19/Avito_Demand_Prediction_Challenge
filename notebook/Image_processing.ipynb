{
 "cells": [
  {
   "cell_type": "code",
   "execution_count": 1,
   "metadata": {},
   "outputs": [],
   "source": [
    "#!/usr/bin/env python3\n",
    "# -*- coding: utf-8 -*-\n",
    "\"\"\"\n",
    "Created on Mon May 28 16:29:22 2018\n",
    "\n",
    "@author: ldong\n",
    "\"\"\"\n",
    "\n",
    "from PIL import Image\n",
    "from zipfile import ZipFile\n",
    "import matplotlib.pyplot as plt\n",
    "from skimage import feature\n",
    "from multiprocessing import Pool\n",
    "import numpy as np\n",
    "import pandas as pd\n",
    "from collections import defaultdict\n",
    "import operator\n",
    "import os, time\n",
    "from scipy import ndimage as ndi\n",
    "import cv2\n",
    "os.environ['OMP_NUM_THREADS'] = '40'"
   ]
  },
  {
   "cell_type": "code",
   "execution_count": 2,
   "metadata": {},
   "outputs": [],
   "source": [
    "num_cores = 8\n",
    "num_partitions = num_cores\n",
    "\n",
    "import gc"
   ]
  },
  {
   "cell_type": "code",
   "execution_count": 3,
   "metadata": {},
   "outputs": [],
   "source": [
    "images_path = '../input/train_jpg_0'\n",
    "\n",
    "files = os.listdir(images_path)\n",
    "feats = pd.DataFrame({'image':files[:2000]})"
   ]
  },
  {
   "cell_type": "code",
   "execution_count": null,
   "metadata": {},
   "outputs": [],
   "source": []
  },
  {
   "cell_type": "code",
   "execution_count": 4,
   "metadata": {},
   "outputs": [],
   "source": [
    "def parallelize_dataframe(df, func):\n",
    "    '''\n",
    "    paralell processing\n",
    "    '''\n",
    "    df_list = np.array_split(df, num_partitions)\n",
    "    pool = Pool(processes=num_cores)\n",
    "    df = pd.concat(pool.map(func, df_list))\n",
    "    pool.close()\n",
    "    pool.join()\n",
    "    return df"
   ]
  },
  {
   "cell_type": "code",
   "execution_count": 5,
   "metadata": {},
   "outputs": [],
   "source": [
    "def parallelize_list(ls, func):\n",
    "    ls_list = np.array_split(ls, num_partitions)\n",
    "    pool = Pool(processes=num_cores)\n",
    "    ls = np.concatenate(pool.map(func,ls_list))\n",
    "    pool.close()\n",
    "    pool.join()\n",
    "    return ls"
   ]
  },
  {
   "cell_type": "code",
   "execution_count": 6,
   "metadata": {},
   "outputs": [],
   "source": [
    "def load_img(img_names):\n",
    "    imgs = []\n",
    "    for i in img_names:\n",
    "        with open(images_path+'/'+i,'rb') as f:\n",
    "            tmp = Image.open(f)\n",
    "            imgs.append(tmp.copy()) \n",
    "            f.close()\n",
    "    return imgs"
   ]
  },
  {
   "cell_type": "code",
   "execution_count": 7,
   "metadata": {},
   "outputs": [],
   "source": [
    "def flatten(l):\n",
    "    try:\n",
    "        return flatten(l[0]) + (flatten(l[1:]) if len(l) > 1 else []) if type(l) is list else [l]\n",
    "    except IndexError:\n",
    "        return []"
   ]
  },
  {
   "cell_type": "code",
   "execution_count": 8,
   "metadata": {},
   "outputs": [],
   "source": [
    "ls_list = np.array_split(feats.image, num_partitions)\n",
    "pool = Pool(processes=num_cores)\n",
    "imgs = flatten(pool.map(load_img,ls_list))\n",
    "feats['img_mat'] = imgs"
   ]
  },
  {
   "cell_type": "code",
   "execution_count": 9,
   "metadata": {},
   "outputs": [
    {
     "data": {
      "text/plain": [
       "14"
      ]
     },
     "execution_count": 9,
     "metadata": {},
     "output_type": "execute_result"
    }
   ],
   "source": [
    "gc.collect()"
   ]
  },
  {
   "cell_type": "markdown",
   "metadata": {},
   "source": [
    "### Dullness"
   ]
  },
  {
   "cell_type": "code",
   "execution_count": 10,
   "metadata": {},
   "outputs": [],
   "source": [
    "def color_analysis(img):\n",
    "#    img = Image.open(images_path+'/'+img)\n",
    "    \n",
    "    # obtain the color palatte of the image \n",
    "    palatte = defaultdict(int)\n",
    "    for pixel in img.getdata():\n",
    "        palatte[pixel] += 1\n",
    "    \n",
    "    # sort the colors present in the image \n",
    "    sorted_x = sorted(palatte.items(), key=operator.itemgetter(1), reverse = True)\n",
    "    light_shade, dark_shade, shade_count, pixel_limit = 0, 0, 0, 25\n",
    "    for i, x in enumerate(sorted_x[:pixel_limit]):\n",
    "        if all(xx <= 20 for xx in x[0][:3]): ## dull : too much darkness \n",
    "            dark_shade += x[1]\n",
    "        if all(xx >= 240 for xx in x[0][:3]): ## bright : too much whiteness \n",
    "            light_shade += x[1]\n",
    "        shade_count += x[1]\n",
    "        \n",
    "    light_percent = round((float(light_shade)/shade_count)*100, 2)\n",
    "    dark_percent = round((float(dark_shade)/shade_count)*100, 2)\n",
    "    return light_percent, dark_percent\n",
    "\n",
    "def perform_color_analysis(im, flag):\n",
    "#    im = Image.open(images_path+'/'+im)\n",
    "    \n",
    "    # cut the images into two halves as complete average may give bias results\n",
    "    size = im.size\n",
    "    halves = (size[0]/2, size[1]/2)\n",
    "    im1 = im.crop((0, 0, size[0], halves[1]))\n",
    "    im2 = im.crop((0, halves[1], size[0], size[1]))\n",
    "\n",
    "    try:\n",
    "        light_percent1, dark_percent1 = color_analysis(im1)\n",
    "        light_percent2, dark_percent2 = color_analysis(im2)\n",
    "    except Exception as e:\n",
    "        return None\n",
    "    \n",
    "    light_percent = (light_percent1 + light_percent2)/2 \n",
    "    dark_percent = (dark_percent1 + dark_percent2)/2 \n",
    "    \n",
    "    if flag == 'black':\n",
    "        return dark_percent\n",
    "    elif flag == 'white':\n",
    "        return light_percent\n",
    "    else:\n",
    "        return None"
   ]
  },
  {
   "cell_type": "markdown",
   "metadata": {},
   "source": [
    "### Uniformness"
   ]
  },
  {
   "cell_type": "code",
   "execution_count": 11,
   "metadata": {},
   "outputs": [],
   "source": [
    "def average_pixel_width(im):\n",
    "    im_array = np.asarray(im.convert(mode='L'))\n",
    "    edges_sigma1 = feature.canny(im_array, sigma=3)\n",
    "    apw = (float(np.sum(edges_sigma1)) / (im.size[0]*im.size[1]))\n",
    "    return apw*100"
   ]
  },
  {
   "cell_type": "code",
   "execution_count": 12,
   "metadata": {},
   "outputs": [],
   "source": [
    "def get_dominant_color(img):\n",
    "    img = np.float32(img)\n",
    "    pixels = img.reshape((-1, 3))\n",
    "\n",
    "    n_colors = 5\n",
    "    criteria = (cv2.TERM_CRITERIA_EPS + cv2.TERM_CRITERIA_MAX_ITER, 200, .1)\n",
    "    flags = cv2.KMEANS_RANDOM_CENTERS\n",
    "    _, labels, centroids = cv2.kmeans(pixels, n_colors, None, criteria, 10, flags)\n",
    "\n",
    "    palette = np.uint8(centroids)\n",
    "    quantized = palette[labels.flatten()]\n",
    "    quantized = quantized.reshape(img.shape)\n",
    "\n",
    "    dominant_color = palette[np.argmax(np.unique(labels)[1])]\n",
    "    return dominant_color"
   ]
  },
  {
   "cell_type": "code",
   "execution_count": 13,
   "metadata": {},
   "outputs": [],
   "source": [
    "def get_average_color(img): \n",
    "    img = np.float32(img)\n",
    "    average_color = [img[:, :, i].mean() for i in range(img.shape[-1])]\n",
    "    return average_color"
   ]
  },
  {
   "cell_type": "code",
   "execution_count": 14,
   "metadata": {},
   "outputs": [],
   "source": [
    "def getSize(filename):\n",
    "    filename = images_path + '/' + filename\n",
    "    st = os.stat(filename)\n",
    "    return st.st_size\n"
   ]
  },
  {
   "cell_type": "code",
   "execution_count": 15,
   "metadata": {},
   "outputs": [],
   "source": [
    "def getDimensions(image):\n",
    "    return image.size"
   ]
  },
  {
   "cell_type": "code",
   "execution_count": 16,
   "metadata": {},
   "outputs": [],
   "source": [
    "def get_blurrness(image):\n",
    "    image = np.float32(image)\n",
    "    image = cv2.cvtColor(image, cv2.COLOR_BGR2GRAY)\n",
    "    fm = cv2.Laplacian(image, cv2.CV_32F).var()\n",
    "    return fm"
   ]
  },
  {
   "cell_type": "code",
   "execution_count": null,
   "metadata": {},
   "outputs": [],
   "source": []
  },
  {
   "cell_type": "code",
   "execution_count": 17,
   "metadata": {},
   "outputs": [],
   "source": [
    "def score_feats(data):\n",
    "    data['dullness'] = data['img_mat'].apply(lambda x : perform_color_analysis(x, 'black'))\n",
    "    data['whiteness'] = data['img_mat'].apply(lambda x : perform_color_analysis(x, 'white'))   \n",
    "    data['apw'] = data['img_mat'].apply(lambda x : average_pixel_width(x))   \n",
    "#     data['dominant_color'] = data['img_mat'].apply(lambda x : get_dominant_color(x))\n",
    "    data['average_color'] = data['img_mat'].apply(lambda x : get_average_color(x))   \n",
    "    data['size'] = data['image'].apply(getSize)   \n",
    "    data['dim'] = data['img_mat'].apply(getDimensions)      \n",
    "    data['blurrness'] = data['img_mat'].apply(lambda x: get_blurrness(x))   \n",
    "    return data"
   ]
  },
  {
   "cell_type": "code",
   "execution_count": 18,
   "metadata": {},
   "outputs": [
    {
     "name": "stdout",
     "output_type": "stream",
     "text": [
      "Feature creation time: 1.43 Minutes\n"
     ]
    }
   ],
   "source": [
    "start = time.time()\n",
    "feats = parallelize_dataframe(feats, score_feats)\n",
    "print(\"Feature creation time: %0.2f Minutes\"%((time.time() - start)/60))"
   ]
  },
  {
   "cell_type": "code",
   "execution_count": 19,
   "metadata": {},
   "outputs": [
    {
     "data": {
      "text/plain": [
       "0"
      ]
     },
     "execution_count": 19,
     "metadata": {},
     "output_type": "execute_result"
    }
   ],
   "source": [
    "gc.collect()"
   ]
  },
  {
   "cell_type": "code",
   "execution_count": 20,
   "metadata": {},
   "outputs": [
    {
     "data": {
      "text/html": [
       "<div>\n",
       "<style scoped>\n",
       "    .dataframe tbody tr th:only-of-type {\n",
       "        vertical-align: middle;\n",
       "    }\n",
       "\n",
       "    .dataframe tbody tr th {\n",
       "        vertical-align: top;\n",
       "    }\n",
       "\n",
       "    .dataframe thead th {\n",
       "        text-align: right;\n",
       "    }\n",
       "</style>\n",
       "<table border=\"1\" class=\"dataframe\">\n",
       "  <thead>\n",
       "    <tr style=\"text-align: right;\">\n",
       "      <th></th>\n",
       "      <th>image</th>\n",
       "      <th>img_mat</th>\n",
       "      <th>dullness</th>\n",
       "      <th>whiteness</th>\n",
       "      <th>apw</th>\n",
       "      <th>average_color</th>\n",
       "      <th>size</th>\n",
       "      <th>dim</th>\n",
       "      <th>blurrness</th>\n",
       "    </tr>\n",
       "  </thead>\n",
       "  <tbody>\n",
       "    <tr>\n",
       "      <th>0</th>\n",
       "      <td>657ab4edbc0afc5b3d4ca734ab995d338fa6d726a1b3c2...</td>\n",
       "      <td>&lt;PIL.Image.Image image mode=RGB size=480x360 a...</td>\n",
       "      <td>9.280</td>\n",
       "      <td>18.60</td>\n",
       "      <td>2.704861</td>\n",
       "      <td>[103.723145, 92.70534, 87.92938]</td>\n",
       "      <td>37196</td>\n",
       "      <td>(480, 360)</td>\n",
       "      <td>248.506180</td>\n",
       "    </tr>\n",
       "    <tr>\n",
       "      <th>1</th>\n",
       "      <td>0dd8c8d13d4be982b0341a484ad1cfae4212a3bc481bc0...</td>\n",
       "      <td>&lt;PIL.Image.Image image mode=RGB size=480x360 a...</td>\n",
       "      <td>0.000</td>\n",
       "      <td>50.00</td>\n",
       "      <td>3.644097</td>\n",
       "      <td>[162.63553, 167.62607, 183.44379]</td>\n",
       "      <td>26286</td>\n",
       "      <td>(480, 360)</td>\n",
       "      <td>577.679504</td>\n",
       "    </tr>\n",
       "    <tr>\n",
       "      <th>2</th>\n",
       "      <td>c96081c247df86f9749c1571a5ac9c5ef551e156343563...</td>\n",
       "      <td>&lt;PIL.Image.Image image mode=RGB size=640x360 a...</td>\n",
       "      <td>94.660</td>\n",
       "      <td>0.00</td>\n",
       "      <td>3.437066</td>\n",
       "      <td>[94.5495, 98.09114, 92.416916]</td>\n",
       "      <td>67852</td>\n",
       "      <td>(640, 360)</td>\n",
       "      <td>1219.286987</td>\n",
       "    </tr>\n",
       "    <tr>\n",
       "      <th>3</th>\n",
       "      <td>0abf6d598659d5d6169871b00970eb393ffe7d5d865252...</td>\n",
       "      <td>&lt;PIL.Image.Image image mode=RGB size=480x360 a...</td>\n",
       "      <td>3.785</td>\n",
       "      <td>10.78</td>\n",
       "      <td>5.652199</td>\n",
       "      <td>[122.74912, 138.33653, 127.19715]</td>\n",
       "      <td>67164</td>\n",
       "      <td>(480, 360)</td>\n",
       "      <td>1802.658936</td>\n",
       "    </tr>\n",
       "    <tr>\n",
       "      <th>4</th>\n",
       "      <td>64f32128404401ae8ced3ebd451dd30b29be2ca6d5f730...</td>\n",
       "      <td>&lt;PIL.Image.Image image mode=RGB size=270x480 a...</td>\n",
       "      <td>0.000</td>\n",
       "      <td>0.00</td>\n",
       "      <td>1.750772</td>\n",
       "      <td>[88.18731, 129.46936, 160.99812]</td>\n",
       "      <td>34600</td>\n",
       "      <td>(270, 480)</td>\n",
       "      <td>264.471283</td>\n",
       "    </tr>\n",
       "  </tbody>\n",
       "</table>\n",
       "</div>"
      ],
      "text/plain": [
       "                                               image  \\\n",
       "0  657ab4edbc0afc5b3d4ca734ab995d338fa6d726a1b3c2...   \n",
       "1  0dd8c8d13d4be982b0341a484ad1cfae4212a3bc481bc0...   \n",
       "2  c96081c247df86f9749c1571a5ac9c5ef551e156343563...   \n",
       "3  0abf6d598659d5d6169871b00970eb393ffe7d5d865252...   \n",
       "4  64f32128404401ae8ced3ebd451dd30b29be2ca6d5f730...   \n",
       "\n",
       "                                             img_mat  dullness  whiteness  \\\n",
       "0  <PIL.Image.Image image mode=RGB size=480x360 a...     9.280      18.60   \n",
       "1  <PIL.Image.Image image mode=RGB size=480x360 a...     0.000      50.00   \n",
       "2  <PIL.Image.Image image mode=RGB size=640x360 a...    94.660       0.00   \n",
       "3  <PIL.Image.Image image mode=RGB size=480x360 a...     3.785      10.78   \n",
       "4  <PIL.Image.Image image mode=RGB size=270x480 a...     0.000       0.00   \n",
       "\n",
       "        apw                      average_color   size         dim    blurrness  \n",
       "0  2.704861   [103.723145, 92.70534, 87.92938]  37196  (480, 360)   248.506180  \n",
       "1  3.644097  [162.63553, 167.62607, 183.44379]  26286  (480, 360)   577.679504  \n",
       "2  3.437066     [94.5495, 98.09114, 92.416916]  67852  (640, 360)  1219.286987  \n",
       "3  5.652199  [122.74912, 138.33653, 127.19715]  67164  (480, 360)  1802.658936  \n",
       "4  1.750772   [88.18731, 129.46936, 160.99812]  34600  (270, 480)   264.471283  "
      ]
     },
     "execution_count": 20,
     "metadata": {},
     "output_type": "execute_result"
    }
   ],
   "source": [
    "feats.head()"
   ]
  },
  {
   "cell_type": "code",
   "execution_count": 21,
   "metadata": {},
   "outputs": [
    {
     "data": {
      "text/html": [
       "<div>\n",
       "<style scoped>\n",
       "    .dataframe tbody tr th:only-of-type {\n",
       "        vertical-align: middle;\n",
       "    }\n",
       "\n",
       "    .dataframe tbody tr th {\n",
       "        vertical-align: top;\n",
       "    }\n",
       "\n",
       "    .dataframe thead th {\n",
       "        text-align: right;\n",
       "    }\n",
       "</style>\n",
       "<table border=\"1\" class=\"dataframe\">\n",
       "  <thead>\n",
       "    <tr style=\"text-align: right;\">\n",
       "      <th></th>\n",
       "      <th>dullness</th>\n",
       "      <th>whiteness</th>\n",
       "      <th>apw</th>\n",
       "      <th>size</th>\n",
       "      <th>blurrness</th>\n",
       "    </tr>\n",
       "  </thead>\n",
       "  <tbody>\n",
       "    <tr>\n",
       "      <th>count</th>\n",
       "      <td>2000.000000</td>\n",
       "      <td>2000.000000</td>\n",
       "      <td>2000.000000</td>\n",
       "      <td>2000.000000</td>\n",
       "      <td>2000.000000</td>\n",
       "    </tr>\n",
       "    <tr>\n",
       "      <th>mean</th>\n",
       "      <td>11.874273</td>\n",
       "      <td>14.322235</td>\n",
       "      <td>2.816300</td>\n",
       "      <td>37937.374000</td>\n",
       "      <td>810.225216</td>\n",
       "    </tr>\n",
       "    <tr>\n",
       "      <th>std</th>\n",
       "      <td>22.576197</td>\n",
       "      <td>27.817311</td>\n",
       "      <td>1.502814</td>\n",
       "      <td>16053.144325</td>\n",
       "      <td>1062.095273</td>\n",
       "    </tr>\n",
       "    <tr>\n",
       "      <th>min</th>\n",
       "      <td>0.000000</td>\n",
       "      <td>0.000000</td>\n",
       "      <td>0.052126</td>\n",
       "      <td>3038.000000</td>\n",
       "      <td>35.251225</td>\n",
       "    </tr>\n",
       "    <tr>\n",
       "      <th>25%</th>\n",
       "      <td>0.000000</td>\n",
       "      <td>0.000000</td>\n",
       "      <td>1.744925</td>\n",
       "      <td>26162.000000</td>\n",
       "      <td>275.589050</td>\n",
       "    </tr>\n",
       "    <tr>\n",
       "      <th>50%</th>\n",
       "      <td>0.000000</td>\n",
       "      <td>0.000000</td>\n",
       "      <td>2.529173</td>\n",
       "      <td>36200.000000</td>\n",
       "      <td>511.719788</td>\n",
       "    </tr>\n",
       "    <tr>\n",
       "      <th>75%</th>\n",
       "      <td>12.781250</td>\n",
       "      <td>12.730000</td>\n",
       "      <td>3.593097</td>\n",
       "      <td>47688.750000</td>\n",
       "      <td>936.872955</td>\n",
       "    </tr>\n",
       "    <tr>\n",
       "      <th>max</th>\n",
       "      <td>100.000000</td>\n",
       "      <td>100.000000</td>\n",
       "      <td>10.847222</td>\n",
       "      <td>120676.000000</td>\n",
       "      <td>18602.091797</td>\n",
       "    </tr>\n",
       "  </tbody>\n",
       "</table>\n",
       "</div>"
      ],
      "text/plain": [
       "          dullness    whiteness          apw           size     blurrness\n",
       "count  2000.000000  2000.000000  2000.000000    2000.000000   2000.000000\n",
       "mean     11.874273    14.322235     2.816300   37937.374000    810.225216\n",
       "std      22.576197    27.817311     1.502814   16053.144325   1062.095273\n",
       "min       0.000000     0.000000     0.052126    3038.000000     35.251225\n",
       "25%       0.000000     0.000000     1.744925   26162.000000    275.589050\n",
       "50%       0.000000     0.000000     2.529173   36200.000000    511.719788\n",
       "75%      12.781250    12.730000     3.593097   47688.750000    936.872955\n",
       "max     100.000000   100.000000    10.847222  120676.000000  18602.091797"
      ]
     },
     "execution_count": 21,
     "metadata": {},
     "output_type": "execute_result"
    }
   ],
   "source": [
    "feats.describe()"
   ]
  },
  {
   "cell_type": "code",
   "execution_count": 22,
   "metadata": {},
   "outputs": [],
   "source": [
    "img_df = feats.drop(['img_mat'], axis= 1)"
   ]
  },
  {
   "cell_type": "code",
   "execution_count": 23,
   "metadata": {},
   "outputs": [],
   "source": [
    "img_df.to_csv('img_df_0')"
   ]
  },
  {
   "cell_type": "code",
   "execution_count": 26,
   "metadata": {},
   "outputs": [
    {
     "data": {
      "text/plain": [
       "0"
      ]
     },
     "execution_count": 26,
     "metadata": {},
     "output_type": "execute_result"
    }
   ],
   "source": [
    "del img_df\n",
    "gc.collect()"
   ]
  },
  {
   "cell_type": "code",
   "execution_count": null,
   "metadata": {},
   "outputs": [],
   "source": []
  }
 ],
 "metadata": {
  "kernelspec": {
   "display_name": "Python 3",
   "language": "python",
   "name": "python3"
  },
  "language_info": {
   "codemirror_mode": {
    "name": "ipython",
    "version": 3
   },
   "file_extension": ".py",
   "mimetype": "text/x-python",
   "name": "python",
   "nbconvert_exporter": "python",
   "pygments_lexer": "ipython3",
   "version": "3.6.5"
  }
 },
 "nbformat": 4,
 "nbformat_minor": 2
}
