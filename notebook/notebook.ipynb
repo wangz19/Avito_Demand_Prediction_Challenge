{
  "cells": [
    {
      "metadata": {
        "_cell_guid": "b1076dfc-b9ad-4769-8c92-a6c4dae69d19",
        "_uuid": "8f2839f25d086af736a60e9eeb907d3b93b6e0e5",
        "trusted": true
      },
      "cell_type": "code",
      "source": "# This Python 3 environment comes with many helpful analytics libraries installed\n# It is defined by the kaggle/python docker image: https://github.com/kaggle/docker-python\n# For example, here's several helpful packages to load in \n\nimport numpy as np # linear algebra\nimport pandas as pd # data processing, CSV file I/O (e.g. pd.read_csv)\nimport seaborn as sns\nimport matplotlib.pyplot as plt\n%matplotlib inline\n\n# Input data files are available in the \"../input/\" directory.\n# For example, running this (by clicking run or pressing Shift+Enter) will list the files in the input directory\n\nimport os\nprint(os.listdir(\"../input\"))\n\n# Any results you write to the current directory are saved as output.",
      "execution_count": 1,
      "outputs": [
        {
          "output_type": "stream",
          "text": "['test_jpg.zip', 'test_active.csv', 'train.csv', 'train_active.csv', 'periods_train.csv', 'test.csv', 'periods_test.csv', 'train_jpg.zip', 'sample_submission.csv']\n",
          "name": "stdout"
        }
      ]
    },
    {
      "metadata": {
        "_cell_guid": "79c7e3d0-c299-4dcb-8224-4455121ee9b0",
        "_uuid": "d629ff2d2480ee46fbb7e2d37f6b5fab8052498a",
        "collapsed": true
      },
      "cell_type": "markdown",
      "source": "### Data Exploration\n\ncombine the training and testing data into list to do manipulation the same time\n** discription data**\nfull_des = [train_active, test_active]\n\ntarget column is the deal_probability \n\n\n\n"
    },
    {
      "metadata": {
        "_cell_guid": "bbbc09df-0758-436c-8f8f-6984bd34a536",
        "_uuid": "5a2f8d8e0df068d26e82b547f08a89e6fa1a233f",
        "trusted": true
      },
      "cell_type": "code",
      "source": "train_dp = pd.read_csv('../input/train.csv')\ntest_dp= pd.read_csv('../input/test.csv')\nfull_dp = [train_dp,test_dp]",
      "execution_count": 3,
      "outputs": []
    },
    {
      "metadata": {
        "_cell_guid": "102dad4d-b421-490c-bfb4-cd169eca7be7",
        "_uuid": "b03d98ea77792b36f24b8777e257e8ca654f7e6c",
        "trusted": true
      },
      "cell_type": "code",
      "source": "train_dp.info()\nprint ('*'*20)\ntest_dp.info()",
      "execution_count": 4,
      "outputs": [
        {
          "output_type": "stream",
          "text": "<class 'pandas.core.frame.DataFrame'>\nRangeIndex: 1503424 entries, 0 to 1503423\nData columns (total 18 columns):\nitem_id                 1503424 non-null object\nuser_id                 1503424 non-null object\nregion                  1503424 non-null object\ncity                    1503424 non-null object\nparent_category_name    1503424 non-null object\ncategory_name           1503424 non-null object\nparam_1                 1441848 non-null object\nparam_2                 848882 non-null object\nparam_3                 640859 non-null object\ntitle                   1503424 non-null object\ndescription             1387148 non-null object\nprice                   1418062 non-null float64\nitem_seq_number         1503424 non-null int64\nactivation_date         1503424 non-null object\nuser_type               1503424 non-null object\nimage                   1390836 non-null object\nimage_top_1             1390836 non-null float64\ndeal_probability        1503424 non-null float64\ndtypes: float64(3), int64(1), object(14)\nmemory usage: 206.5+ MB\n********************\n<class 'pandas.core.frame.DataFrame'>\nRangeIndex: 508438 entries, 0 to 508437\nData columns (total 17 columns):\nitem_id                 508438 non-null object\nuser_id                 508438 non-null object\nregion                  508438 non-null object\ncity                    508438 non-null object\nparent_category_name    508438 non-null object\ncategory_name           508438 non-null object\nparam_1                 485528 non-null object\nparam_2                 275209 non-null object\nparam_3                 202107 non-null object\ntitle                   508438 non-null object\ndescription             508438 non-null object\nprice                   477853 non-null float64\nitem_seq_number         508438 non-null int64\nactivation_date         508438 non-null object\nuser_type               508438 non-null object\nimage                   465829 non-null object\nimage_top_1             465829 non-null float64\ndtypes: float64(2), int64(1), object(14)\nmemory usage: 65.9+ MB\n",
          "name": "stdout"
        }
      ]
    },
    {
      "metadata": {
        "_cell_guid": "e548f31a-b775-44f8-a592-799b3315ace0",
        "_uuid": "1b08d1ce4600703e9d430ce0fa58771f3c9b36d5"
      },
      "cell_type": "markdown",
      "source": "### The major challenge for this dataset is to make sence of Russian vocabulary\n\n- Either get translation API to translated in to English\n- Deal with synnonymous in Russian database"
    },
    {
      "metadata": {
        "trusted": true,
        "collapsed": true,
        "_uuid": "a55d1d814674a8779b18642967097805fa6c40d5"
      },
      "cell_type": "code",
      "source": "# import google translator from url\nimport urllib \ndef import_URL(URL):\n    exec urllib.urlopen(URL) in globals()\n    \nimport_URL(\"https://gist.github.com/1473363.git\")",
      "execution_count": null,
      "outputs": []
    },
    {
      "metadata": {
        "_cell_guid": "5eb8be89-2052-4c38-8b35-24df778fe109",
        "_uuid": "8391f0d16f080b5efdc9cc486c043d32c5d447cd",
        "trusted": true
      },
      "cell_type": "code",
      "source": "# how many category_name does test and train data possess\ncata_group = train_dp[['item_id','parent_category_name']].groupby('parent_category_name')\ncata_group.count().head()",
      "execution_count": 5,
      "outputs": [
        {
          "output_type": "execute_result",
          "execution_count": 5,
          "data": {
            "text/plain": "                      item_id\nparent_category_name         \nБытовая электроника    173008\nДля бизнеса             18075\nДля дома и дачи        178823\nЖивотные                52470\nЛичные вещи            697623",
            "text/html": "<div>\n<style scoped>\n    .dataframe tbody tr th:only-of-type {\n        vertical-align: middle;\n    }\n\n    .dataframe tbody tr th {\n        vertical-align: top;\n    }\n\n    .dataframe thead th {\n        text-align: right;\n    }\n</style>\n<table border=\"1\" class=\"dataframe\">\n  <thead>\n    <tr style=\"text-align: right;\">\n      <th></th>\n      <th>item_id</th>\n    </tr>\n    <tr>\n      <th>parent_category_name</th>\n      <th></th>\n    </tr>\n  </thead>\n  <tbody>\n    <tr>\n      <th>Бытовая электроника</th>\n      <td>173008</td>\n    </tr>\n    <tr>\n      <th>Для бизнеса</th>\n      <td>18075</td>\n    </tr>\n    <tr>\n      <th>Для дома и дачи</th>\n      <td>178823</td>\n    </tr>\n    <tr>\n      <th>Животные</th>\n      <td>52470</td>\n    </tr>\n    <tr>\n      <th>Личные вещи</th>\n      <td>697623</td>\n    </tr>\n  </tbody>\n</table>\n</div>"
          },
          "metadata": {}
        }
      ]
    },
    {
      "metadata": {
        "_cell_guid": "995c9327-cd0a-4638-a6f8-2d6cd0c011e3",
        "_uuid": "45af66fd88e5ff0360976606a054c7d09bc6d1fe",
        "trusted": true
      },
      "cell_type": "code",
      "source": "plt.bar(cata_group.count().index,cata_group.count().item_id)",
      "execution_count": 7,
      "outputs": [
        {
          "output_type": "execute_result",
          "execution_count": 7,
          "data": {
            "text/plain": "<Container object of 9 artists>"
          },
          "metadata": {}
        },
        {
          "output_type": "display_data",
          "data": {
            "text/plain": "<matplotlib.figure.Figure at 0x7f939d7d4cc0>",
            "image/png": "[encoded data removed]"
          },
          "metadata": {}
        }
      ]
    },
    {
      "metadata": {
        "_cell_guid": "f13f8469-6e09-4eb5-9300-2fe7fbcf2653",
        "_uuid": "9cbbed4ef668e7ba176109e8a1e996cfa5318e83",
        "collapsed": true,
        "trusted": false
      },
      "cell_type": "code",
      "source": "",
      "execution_count": null,
      "outputs": []
    },
    {
      "metadata": {
        "_cell_guid": "deeac614-f48c-4991-abdd-6b4edb8436bc",
        "_uuid": "fac349dc67ebba3c83997d77d24940c032a8cf0b",
        "collapsed": true,
        "trusted": false
      },
      "cell_type": "code",
      "source": "",
      "execution_count": null,
      "outputs": []
    }
  ],
  "metadata": {
    "kernelspec": {
      "display_name": "Python 3",
      "language": "python",
      "name": "python3"
    },
    "language_info": {
      "name": "python",
      "version": "3.6.5",
      "mimetype": "text/x-python",
      "codemirror_mode": {
        "name": "ipython",
        "version": 3
      },
      "pygments_lexer": "ipython3",
      "nbconvert_exporter": "python",
      "file_extension": ".py"
    }
  },
  "nbformat": 4,
  "nbformat_minor": 1
}