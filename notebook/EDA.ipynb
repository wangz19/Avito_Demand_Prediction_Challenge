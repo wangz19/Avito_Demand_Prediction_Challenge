{
 "cells": [
  {
   "cell_type": "code",
   "execution_count": 1,
   "metadata": {
    "_cell_guid": "b1076dfc-b9ad-4769-8c92-a6c4dae69d19",
    "_uuid": "8f2839f25d086af736a60e9eeb907d3b93b6e0e5"
   },
   "outputs": [
    {
     "name": "stdout",
     "output_type": "stream",
     "text": [
      "['../input/periods_train.csv', '../input/periods_test.csv', '../input/train_active.csv', '../input/test.csv', '../input/test_active.csv', '../input/train.csv']\n"
     ]
    }
   ],
   "source": [
    "# This Python 3 environment comes with many helpful analytics libraries installed\n",
    "# It is defined by the kaggle/python docker image: https://github.com/kaggle/docker-python\n",
    "# For example, here's several helpful packages to load in \n",
    "\n",
    "import numpy as np # linear algebra\n",
    "import pandas as pd # data processing, CSV file I/O (e.g. pd.read_csv)\n",
    "import seaborn as sns\n",
    "import matplotlib.pyplot as plt\n",
    "%matplotlib inline\n",
    "\n",
    "# Input data files dare available in the \"../input/\" directory.\n",
    "# For example, running this (by clicking run or pressing Shift+Enter) will list the files in the input directory\n",
    "local_dir = \"../input/\"\n",
    "\n",
    "import os\n",
    "# print(os.listdir(local_dir))\n",
    "\n",
    "import glob\n",
    "csv_file = glob.glob(local_dir+'*.csv')\n",
    "print (csv_file)\n",
    "# Any results you write to the current directory are saved as output."
   ]
  },
  {
   "cell_type": "markdown",
   "metadata": {},
   "source": [
    "### Data description\n",
    "\n",
    "train.csv - Train data.\n",
    "item_id - Ad id.\n",
    "user_id - User id.\n",
    "region - Ad region.\n",
    "city - Ad city.\n",
    "parent_category_name - Top level ad category as classified by Avito's ad model.\n",
    "category_name - Fine grain ad category as classified by Avito's ad model.\n",
    "param_1 - Optional parameter from Avito's ad model.\n",
    "param_2 - Optional parameter from Avito's ad model.\n",
    "param_3 - Optional parameter from Avito's ad model.\n",
    "title - Ad title.\n",
    "description - Ad description.\n",
    "price - Ad price.\n",
    "item_seq_number - Ad sequential number for user.\n",
    "activation_date- Date ad was placed.\n",
    "user_type - User type.\n",
    "image - Id code of image. Ties to a jpg file in train_jpg. Not every ad has an image.\n",
    "image_top_1 - Avito's classification code for the image.\n",
    "deal_probability - The target variable. This is the likelihood that an ad actually sold something. It's not possible to verify every transaction with certainty, so this column's value can be any float from zero to one.\n",
    "\n",
    "__notice__:\n",
    "    \n",
    "    1. interpretation of param_1, _2, and _3?\n",
    "\n",
    "    2. price should be categorized with parent_category!\n",
    "    \n",
    "    3. data_placed: mind the weekday or weekends of post data affect the dp!\n",
    "    \n",
    "    4. what is the user_type?\n",
    "    \n",
    "    5. "
   ]
  },
  {
   "cell_type": "markdown",
   "metadata": {
    "_cell_guid": "79c7e3d0-c299-4dcb-8224-4455121ee9b0",
    "_uuid": "d629ff2d2480ee46fbb7e2d37f6b5fab8052498a",
    "collapsed": true
   },
   "source": [
    "### Data Exploration\n",
    "\n",
    "combine the training and testing data into list to do manipulation the same time\n",
    "** discription data**\n",
    "full_des = [train_active, test_active]\n",
    "\n",
    "target column is the deal_probability \n",
    "\n",
    "\n",
    "\n"
   ]
  },
  {
   "cell_type": "code",
   "execution_count": 2,
   "metadata": {
    "_cell_guid": "bbbc09df-0758-436c-8f8f-6984bd34a536",
    "_uuid": "5a2f8d8e0df068d26e82b547f08a89e6fa1a233f"
   },
   "outputs": [],
   "source": [
    "train_dp = pd.read_csv(local_dir+'train.csv', parse_dates=[\"activation_date\"])\n",
    "test_dp= pd.read_csv(local_dir+'test.csv', parse_dates=[\"activation_date\"])\n",
    "full_dp = [train_dp,test_dp]"
   ]
  },
  {
   "cell_type": "code",
   "execution_count": 3,
   "metadata": {},
   "outputs": [
    {
     "data": {
      "text/html": [
       "<div>\n",
       "<style scoped>\n",
       "    .dataframe tbody tr th:only-of-type {\n",
       "        vertical-align: middle;\n",
       "    }\n",
       "\n",
       "    .dataframe tbody tr th {\n",
       "        vertical-align: top;\n",
       "    }\n",
       "\n",
       "    .dataframe thead th {\n",
       "        text-align: right;\n",
       "    }\n",
       "</style>\n",
       "<table border=\"1\" class=\"dataframe\">\n",
       "  <thead>\n",
       "    <tr style=\"text-align: right;\">\n",
       "      <th></th>\n",
       "      <th>item_id</th>\n",
       "      <th>user_id</th>\n",
       "      <th>region</th>\n",
       "      <th>city</th>\n",
       "      <th>parent_category_name</th>\n",
       "      <th>category_name</th>\n",
       "      <th>param_1</th>\n",
       "      <th>param_2</th>\n",
       "      <th>param_3</th>\n",
       "      <th>title</th>\n",
       "      <th>description</th>\n",
       "      <th>price</th>\n",
       "      <th>item_seq_number</th>\n",
       "      <th>activation_date</th>\n",
       "      <th>user_type</th>\n",
       "      <th>image</th>\n",
       "      <th>image_top_1</th>\n",
       "      <th>deal_probability</th>\n",
       "    </tr>\n",
       "  </thead>\n",
       "  <tbody>\n",
       "    <tr>\n",
       "      <th>0</th>\n",
       "      <td>b912c3c6a6ad</td>\n",
       "      <td>e00f8ff2eaf9</td>\n",
       "      <td>Свердловская область</td>\n",
       "      <td>Екатеринбург</td>\n",
       "      <td>Личные вещи</td>\n",
       "      <td>Товары для детей и игрушки</td>\n",
       "      <td>Постельные принадлежности</td>\n",
       "      <td>NaN</td>\n",
       "      <td>NaN</td>\n",
       "      <td>Кокоби(кокон для сна)</td>\n",
       "      <td>Кокон для сна малыша,пользовались меньше месяц...</td>\n",
       "      <td>400.0</td>\n",
       "      <td>2</td>\n",
       "      <td>2017-03-28</td>\n",
       "      <td>Private</td>\n",
       "      <td>d10c7e016e03247a3bf2d13348fe959fe6f436c1caf64c...</td>\n",
       "      <td>1008.0</td>\n",
       "      <td>0.12789</td>\n",
       "    </tr>\n",
       "    <tr>\n",
       "      <th>1</th>\n",
       "      <td>2dac0150717d</td>\n",
       "      <td>39aeb48f0017</td>\n",
       "      <td>Самарская область</td>\n",
       "      <td>Самара</td>\n",
       "      <td>Для дома и дачи</td>\n",
       "      <td>Мебель и интерьер</td>\n",
       "      <td>Другое</td>\n",
       "      <td>NaN</td>\n",
       "      <td>NaN</td>\n",
       "      <td>Стойка для Одежды</td>\n",
       "      <td>Стойка для одежды, под вешалки. С бутика.</td>\n",
       "      <td>3000.0</td>\n",
       "      <td>19</td>\n",
       "      <td>2017-03-26</td>\n",
       "      <td>Private</td>\n",
       "      <td>79c9392cc51a9c81c6eb91eceb8e552171db39d7142700...</td>\n",
       "      <td>692.0</td>\n",
       "      <td>0.00000</td>\n",
       "    </tr>\n",
       "    <tr>\n",
       "      <th>2</th>\n",
       "      <td>ba83aefab5dc</td>\n",
       "      <td>91e2f88dd6e3</td>\n",
       "      <td>Ростовская область</td>\n",
       "      <td>Ростов-на-Дону</td>\n",
       "      <td>Бытовая электроника</td>\n",
       "      <td>Аудио и видео</td>\n",
       "      <td>Видео, DVD и Blu-ray плееры</td>\n",
       "      <td>NaN</td>\n",
       "      <td>NaN</td>\n",
       "      <td>Philips bluray</td>\n",
       "      <td>В хорошем состоянии, домашний кинотеатр с blu ...</td>\n",
       "      <td>4000.0</td>\n",
       "      <td>9</td>\n",
       "      <td>2017-03-20</td>\n",
       "      <td>Private</td>\n",
       "      <td>b7f250ee3f39e1fedd77c141f273703f4a9be59db4b48a...</td>\n",
       "      <td>3032.0</td>\n",
       "      <td>0.43177</td>\n",
       "    </tr>\n",
       "    <tr>\n",
       "      <th>3</th>\n",
       "      <td>02996f1dd2ea</td>\n",
       "      <td>bf5cccea572d</td>\n",
       "      <td>Татарстан</td>\n",
       "      <td>Набережные Челны</td>\n",
       "      <td>Личные вещи</td>\n",
       "      <td>Товары для детей и игрушки</td>\n",
       "      <td>Автомобильные кресла</td>\n",
       "      <td>NaN</td>\n",
       "      <td>NaN</td>\n",
       "      <td>Автокресло</td>\n",
       "      <td>Продам кресло от0-25кг</td>\n",
       "      <td>2200.0</td>\n",
       "      <td>286</td>\n",
       "      <td>2017-03-25</td>\n",
       "      <td>Company</td>\n",
       "      <td>e6ef97e0725637ea84e3d203e82dadb43ed3cc0a1c8413...</td>\n",
       "      <td>796.0</td>\n",
       "      <td>0.80323</td>\n",
       "    </tr>\n",
       "    <tr>\n",
       "      <th>4</th>\n",
       "      <td>7c90be56d2ab</td>\n",
       "      <td>ef50846afc0b</td>\n",
       "      <td>Волгоградская область</td>\n",
       "      <td>Волгоград</td>\n",
       "      <td>Транспорт</td>\n",
       "      <td>Автомобили</td>\n",
       "      <td>С пробегом</td>\n",
       "      <td>ВАЗ (LADA)</td>\n",
       "      <td>2110</td>\n",
       "      <td>ВАЗ 2110, 2003</td>\n",
       "      <td>Все вопросы по телефону.</td>\n",
       "      <td>40000.0</td>\n",
       "      <td>3</td>\n",
       "      <td>2017-03-16</td>\n",
       "      <td>Private</td>\n",
       "      <td>54a687a3a0fc1d68aed99bdaaf551c5c70b761b16fd0a2...</td>\n",
       "      <td>2264.0</td>\n",
       "      <td>0.20797</td>\n",
       "    </tr>\n",
       "  </tbody>\n",
       "</table>\n",
       "</div>"
      ],
      "text/plain": [
       "        item_id       user_id                 region              city  \\\n",
       "0  b912c3c6a6ad  e00f8ff2eaf9   Свердловская область      Екатеринбург   \n",
       "1  2dac0150717d  39aeb48f0017      Самарская область            Самара   \n",
       "2  ba83aefab5dc  91e2f88dd6e3     Ростовская область    Ростов-на-Дону   \n",
       "3  02996f1dd2ea  bf5cccea572d              Татарстан  Набережные Челны   \n",
       "4  7c90be56d2ab  ef50846afc0b  Волгоградская область         Волгоград   \n",
       "\n",
       "  parent_category_name               category_name  \\\n",
       "0          Личные вещи  Товары для детей и игрушки   \n",
       "1      Для дома и дачи           Мебель и интерьер   \n",
       "2  Бытовая электроника               Аудио и видео   \n",
       "3          Личные вещи  Товары для детей и игрушки   \n",
       "4            Транспорт                  Автомобили   \n",
       "\n",
       "                       param_1     param_2 param_3                  title  \\\n",
       "0    Постельные принадлежности         NaN     NaN  Кокоби(кокон для сна)   \n",
       "1                       Другое         NaN     NaN      Стойка для Одежды   \n",
       "2  Видео, DVD и Blu-ray плееры         NaN     NaN         Philips bluray   \n",
       "3         Автомобильные кресла         NaN     NaN             Автокресло   \n",
       "4                   С пробегом  ВАЗ (LADA)    2110         ВАЗ 2110, 2003   \n",
       "\n",
       "                                         description    price  \\\n",
       "0  Кокон для сна малыша,пользовались меньше месяц...    400.0   \n",
       "1          Стойка для одежды, под вешалки. С бутика.   3000.0   \n",
       "2  В хорошем состоянии, домашний кинотеатр с blu ...   4000.0   \n",
       "3                             Продам кресло от0-25кг   2200.0   \n",
       "4                           Все вопросы по телефону.  40000.0   \n",
       "\n",
       "   item_seq_number activation_date user_type  \\\n",
       "0                2      2017-03-28   Private   \n",
       "1               19      2017-03-26   Private   \n",
       "2                9      2017-03-20   Private   \n",
       "3              286      2017-03-25   Company   \n",
       "4                3      2017-03-16   Private   \n",
       "\n",
       "                                               image  image_top_1  \\\n",
       "0  d10c7e016e03247a3bf2d13348fe959fe6f436c1caf64c...       1008.0   \n",
       "1  79c9392cc51a9c81c6eb91eceb8e552171db39d7142700...        692.0   \n",
       "2  b7f250ee3f39e1fedd77c141f273703f4a9be59db4b48a...       3032.0   \n",
       "3  e6ef97e0725637ea84e3d203e82dadb43ed3cc0a1c8413...        796.0   \n",
       "4  54a687a3a0fc1d68aed99bdaaf551c5c70b761b16fd0a2...       2264.0   \n",
       "\n",
       "   deal_probability  \n",
       "0           0.12789  \n",
       "1           0.00000  \n",
       "2           0.43177  \n",
       "3           0.80323  \n",
       "4           0.20797  "
      ]
     },
     "execution_count": 3,
     "metadata": {},
     "output_type": "execute_result"
    }
   ],
   "source": [
    "train_dp.head()"
   ]
  },
  {
   "cell_type": "markdown",
   "metadata": {},
   "source": [
    "# print description info"
   ]
  },
  {
   "cell_type": "code",
   "execution_count": 4,
   "metadata": {
    "_cell_guid": "102dad4d-b421-490c-bfb4-cd169eca7be7",
    "_uuid": "b03d98ea77792b36f24b8777e257e8ca654f7e6c"
   },
   "outputs": [
    {
     "name": "stdout",
     "output_type": "stream",
     "text": [
      "Training Data\n",
      "                        % NULL        DataType   Non_Na  Unique_values\n",
      "item_id               0.000000          object  1503424        1503424\n",
      "user_id               0.000000          object  1503424         771769\n",
      "region                0.000000          object  1503424             28\n",
      "city                  0.000000          object  1503424           1733\n",
      "parent_category_name  0.000000          object  1503424              9\n",
      "category_name         0.000000          object  1503424             47\n",
      "param_1               0.040957          object  1441848            372\n",
      "param_2               0.435368          object   848882            272\n",
      "param_3               0.573734          object   640859           1220\n",
      "title                 0.000000          object  1503424         788377\n",
      "description           0.077341          object  1387148        1317103\n",
      "price                 0.056778         float64  1418062          17007\n",
      "item_seq_number       0.000000           int64  1503424          28232\n",
      "activation_date       0.000000  datetime64[ns]  1503424             21\n",
      "user_type             0.000000          object  1503424              3\n",
      "image                 0.074888          object  1390836        1390837\n",
      "image_top_1           0.074888         float64  1390836           3063\n",
      "deal_probability      0.000000         float64  1503424          18407\n",
      "******************************\n",
      "Testing Data\n",
      "                         %NULL        DataType  Not_Na  Unique_values\n",
      "item_id               0.000000          object  508438         508438\n",
      "user_id               0.000000          object  508438         306069\n",
      "region                0.000000          object  508438             28\n",
      "city                  0.000000          object  508438           1644\n",
      "parent_category_name  0.000000          object  508438              9\n",
      "category_name         0.000000          object  508438             47\n",
      "param_1               0.045060          object  485528            362\n",
      "param_2               0.458717          object  275209            256\n",
      "param_3               0.602494          object  202107            974\n",
      "title                 0.000000          object  508438         298039\n",
      "description           0.000000          object  508438         485209\n",
      "price                 0.060155         float64  477853           9374\n",
      "item_seq_number       0.000000           int64  508438          15890\n",
      "activation_date       0.000000  datetime64[ns]  508438              9\n",
      "user_type             0.000000          object  508438              3\n",
      "image                 0.083804          object  465829         465830\n",
      "image_top_1           0.083804         float64  465829           3048\n"
     ]
    }
   ],
   "source": [
    "# print percentage of NA value in each column\n",
    "print ('Training Data')\n",
    "train_summary = pd.DataFrame({'DataType': train_dp.dtypes,\n",
    "                              'Non_Na':train_dp.notnull().sum(),\n",
    "                              '% NULL':train_dp.isnull().mean(),\n",
    "                              'Unique_values': train_dp.apply(lambda x: len(x.unique()))\n",
    "                             })  \n",
    "\n",
    "print (train_summary)\n",
    "print ('*'*30)\n",
    "print ('Testing Data')\n",
    "test_summary = pd.DataFrame({'DataType': test_dp.dtypes,\n",
    "                             'Not_Na':test_dp.notnull().sum(),\n",
    "                              '%NULL':test_dp.isnull().mean(),\n",
    "                              'Unique_values': test_dp.apply(lambda x: len(x.unique()))\n",
    "                             })  \n",
    "print (test_summary)"
   ]
  },
  {
   "cell_type": "markdown",
   "metadata": {},
   "source": [
    "## Deal Probability\n",
    "\n",
    "__defination__: The target variable. This is the likelihood that an ad actually sold something. It's not possible to verify every transaction with certainty, so this column's value can be any float from zero to one.\n"
   ]
  },
  {
   "cell_type": "code",
   "execution_count": 5,
   "metadata": {},
   "outputs": [
    {
     "name": "stderr",
     "output_type": "stream",
     "text": [
      "/home/zehai/.local/lib/python3.6/site-packages/matplotlib/axes/_axes.py:6462: UserWarning: The 'normed' kwarg is deprecated, and has been replaced by the 'density' kwarg.\n",
      "  warnings.warn(\"The 'normed' kwarg is deprecated, and has been \"\n"
     ]
    },
    {
     "data": {
      "image/png": "[encoded data removed]",
      "text/plain": [
       "<Figure size 864x576 with 1 Axes>"
      ]
     },
     "metadata": {},
     "output_type": "display_data"
    },
    {
     "data": {
      "image/png": "[encoded data removed]",
      "text/plain": [
       "<Figure size 864x576 with 1 Axes>"
      ]
     },
     "metadata": {},
     "output_type": "display_data"
    }
   ],
   "source": [
    "plt.figure(figsize=(12,8))\n",
    "\n",
    "sns.distplot(train_dp['deal_probability'], bins =100, kde = False)\n",
    "plt.xlabel('likelihood that an ad actually sold something', fontsize=12)\n",
    "plt.title(\"Histogram of likelihood that an ad actually sold something\")\n",
    "plt.show() \n",
    "plt.figure(figsize = (12, 8))\n",
    "plt.scatter(range(train_dp.shape[0]), np.sort(train_dp.deal_probability.values))\n",
    "plt.xlabel('likelihood that an ad actually sold something', fontsize=12)\n",
    "plt.title(\"Distribution of likelihood that an ad actually sold something\")\n",
    "plt.show()"
   ]
  },
  {
   "cell_type": "markdown",
   "metadata": {},
   "source": [
    "## It is interesting to view if there is full overlapping of training and testing data\n",
    "\n",
    "Here we can see, as expected \"region\", \"parent_cate\", \"cate\","
   ]
  },
  {
   "cell_type": "code",
   "execution_count": 6,
   "metadata": {},
   "outputs": [
    {
     "data": {
      "text/plain": [
       "Index(['item_id', 'user_id', 'region', 'city', 'parent_category_name',\n",
       "       'category_name', 'param_1', 'param_2', 'param_3', 'title',\n",
       "       'description', 'price', 'item_seq_number', 'activation_date',\n",
       "       'user_type', 'image', 'image_top_1', 'deal_probability'],\n",
       "      dtype='object')"
      ]
     },
     "execution_count": 6,
     "metadata": {},
     "output_type": "execute_result"
    }
   ],
   "source": [
    "train_summary.index"
   ]
  },
  {
   "cell_type": "code",
   "execution_count": 7,
   "metadata": {},
   "outputs": [
    {
     "data": {
      "text/html": [
       "<div>\n",
       "<style scoped>\n",
       "    .dataframe tbody tr th:only-of-type {\n",
       "        vertical-align: middle;\n",
       "    }\n",
       "\n",
       "    .dataframe tbody tr th {\n",
       "        vertical-align: top;\n",
       "    }\n",
       "\n",
       "    .dataframe thead th {\n",
       "        text-align: right;\n",
       "    }\n",
       "</style>\n",
       "<table border=\"1\" class=\"dataframe\">\n",
       "  <thead>\n",
       "    <tr style=\"text-align: right;\">\n",
       "      <th></th>\n",
       "      <th>Unique_values</th>\n",
       "      <th>OverLapping_Data</th>\n",
       "      <th>%_in_trainning</th>\n",
       "      <th>%_in_test</th>\n",
       "    </tr>\n",
       "  </thead>\n",
       "  <tbody>\n",
       "    <tr>\n",
       "      <th>item_id</th>\n",
       "      <td>2011862</td>\n",
       "      <td>0.0</td>\n",
       "      <td>0.00</td>\n",
       "      <td>0.00</td>\n",
       "    </tr>\n",
       "    <tr>\n",
       "      <th>user_id</th>\n",
       "      <td>1009909</td>\n",
       "      <td>67929.0</td>\n",
       "      <td>8.80</td>\n",
       "      <td>22.19</td>\n",
       "    </tr>\n",
       "    <tr>\n",
       "      <th>region</th>\n",
       "      <td>28</td>\n",
       "      <td>28.0</td>\n",
       "      <td>100.00</td>\n",
       "      <td>100.00</td>\n",
       "    </tr>\n",
       "    <tr>\n",
       "      <th>city</th>\n",
       "      <td>1752</td>\n",
       "      <td>1625.0</td>\n",
       "      <td>93.77</td>\n",
       "      <td>98.84</td>\n",
       "    </tr>\n",
       "    <tr>\n",
       "      <th>parent_category_name</th>\n",
       "      <td>9</td>\n",
       "      <td>9.0</td>\n",
       "      <td>100.00</td>\n",
       "      <td>100.00</td>\n",
       "    </tr>\n",
       "    <tr>\n",
       "      <th>category_name</th>\n",
       "      <td>47</td>\n",
       "      <td>47.0</td>\n",
       "      <td>100.00</td>\n",
       "      <td>100.00</td>\n",
       "    </tr>\n",
       "    <tr>\n",
       "      <th>param_1</th>\n",
       "      <td>372</td>\n",
       "      <td>362.0</td>\n",
       "      <td>97.31</td>\n",
       "      <td>100.00</td>\n",
       "    </tr>\n",
       "    <tr>\n",
       "      <th>param_2</th>\n",
       "      <td>278</td>\n",
       "      <td>250.0</td>\n",
       "      <td>91.91</td>\n",
       "      <td>97.66</td>\n",
       "    </tr>\n",
       "    <tr>\n",
       "      <th>param_3</th>\n",
       "      <td>1277</td>\n",
       "      <td>917.0</td>\n",
       "      <td>75.16</td>\n",
       "      <td>94.15</td>\n",
       "    </tr>\n",
       "    <tr>\n",
       "      <th>title</th>\n",
       "      <td>1022203</td>\n",
       "      <td>64213.0</td>\n",
       "      <td>8.14</td>\n",
       "      <td>21.55</td>\n",
       "    </tr>\n",
       "    <tr>\n",
       "      <th>description</th>\n",
       "      <td>1793973</td>\n",
       "      <td>8339.0</td>\n",
       "      <td>0.63</td>\n",
       "      <td>1.72</td>\n",
       "    </tr>\n",
       "    <tr>\n",
       "      <th>price</th>\n",
       "      <td>20761</td>\n",
       "      <td>5620.0</td>\n",
       "      <td>33.05</td>\n",
       "      <td>59.95</td>\n",
       "    </tr>\n",
       "    <tr>\n",
       "      <th>item_seq_number</th>\n",
       "      <td>33947</td>\n",
       "      <td>10175.0</td>\n",
       "      <td>36.04</td>\n",
       "      <td>64.03</td>\n",
       "    </tr>\n",
       "    <tr>\n",
       "      <th>activation_date</th>\n",
       "      <td>30</td>\n",
       "      <td>0.0</td>\n",
       "      <td>0.00</td>\n",
       "      <td>0.00</td>\n",
       "    </tr>\n",
       "    <tr>\n",
       "      <th>user_type</th>\n",
       "      <td>3</td>\n",
       "      <td>3.0</td>\n",
       "      <td>100.00</td>\n",
       "      <td>100.00</td>\n",
       "    </tr>\n",
       "    <tr>\n",
       "      <th>image</th>\n",
       "      <td>1856666</td>\n",
       "      <td>1.0</td>\n",
       "      <td>0.00</td>\n",
       "      <td>0.00</td>\n",
       "    </tr>\n",
       "    <tr>\n",
       "      <th>image_top_1</th>\n",
       "      <td>3064</td>\n",
       "      <td>3047.0</td>\n",
       "      <td>99.48</td>\n",
       "      <td>99.97</td>\n",
       "    </tr>\n",
       "  </tbody>\n",
       "</table>\n",
       "</div>"
      ],
      "text/plain": [
       "                      Unique_values  OverLapping_Data  %_in_trainning  \\\n",
       "item_id                     2011862               0.0            0.00   \n",
       "user_id                     1009909           67929.0            8.80   \n",
       "region                           28              28.0          100.00   \n",
       "city                           1752            1625.0           93.77   \n",
       "parent_category_name              9               9.0          100.00   \n",
       "category_name                    47              47.0          100.00   \n",
       "param_1                         372             362.0           97.31   \n",
       "param_2                         278             250.0           91.91   \n",
       "param_3                        1277             917.0           75.16   \n",
       "title                       1022203           64213.0            8.14   \n",
       "description                 1793973            8339.0            0.63   \n",
       "price                         20761            5620.0           33.05   \n",
       "item_seq_number               33947           10175.0           36.04   \n",
       "activation_date                  30               0.0            0.00   \n",
       "user_type                         3               3.0          100.00   \n",
       "image                       1856666               1.0            0.00   \n",
       "image_top_1                    3064            3047.0           99.48   \n",
       "\n",
       "                      %_in_test  \n",
       "item_id                    0.00  \n",
       "user_id                   22.19  \n",
       "region                   100.00  \n",
       "city                      98.84  \n",
       "parent_category_name     100.00  \n",
       "category_name            100.00  \n",
       "param_1                  100.00  \n",
       "param_2                   97.66  \n",
       "param_3                   94.15  \n",
       "title                     21.55  \n",
       "description                1.72  \n",
       "price                     59.95  \n",
       "item_seq_number           64.03  \n",
       "activation_date            0.00  \n",
       "user_type                100.00  \n",
       "image                      0.00  \n",
       "image_top_1               99.97  "
      ]
     },
     "execution_count": 7,
     "metadata": {},
     "output_type": "execute_result"
    }
   ],
   "source": [
    "joint_df = train_dp.append(test_dp)[test_dp.columns.tolist()]\n",
    "joint_summary = pd.DataFrame({\n",
    "                              'Unique_values': joint_df.apply(lambda x: len(x.unique()))\n",
    "                             }) \n",
    "joint_summary['OverLapping_Data'] = train_summary['Unique_values']+test_summary['Unique_values']-joint_summary['Unique_values']\n",
    "joint_summary['%_in_trainning']= joint_summary['OverLapping_Data']/train_summary['Unique_values']*100\n",
    "joint_summary['%_in_test']= joint_summary['OverLapping_Data']/test_summary['Unique_values']*100\n",
    "joint_summary.round(2)\n"
   ]
  },
  {
   "cell_type": "code",
   "execution_count": 8,
   "metadata": {},
   "outputs": [],
   "source": [
    "train_user_id = train_dp['user_id'].tolist()\n",
    "test_user_id = test_dp['user_id'].tolist()\n",
    "shared_id = np.intersect1d(train_user_id,test_user_id)"
   ]
  },
  {
   "cell_type": "markdown",
   "metadata": {},
   "source": [
    "### No overlapping of items but same users in training and testing group\n",
    "### Cities not overlapping in training and test data\n",
    "### Posted data are data from one month|"
   ]
  },
  {
   "cell_type": "markdown",
   "metadata": {},
   "source": [
    "## Observations\n",
    "\n",
    "   ### Catagorical Features\n",
    "\n",
    "    suitable catagorical features are:\n",
    "                       \n",
    "                           1. __region__,\n",
    "                           2. __parent_category_name__,\n",
    "                           3. __category_name__\n",
    "                           4. __user_type__\n",
    "   \n",
    "  "
   ]
  },
  {
   "cell_type": "markdown",
   "metadata": {},
   "source": [
    "### Overlapping Image\n",
    "The over lapping data is Na"
   ]
  },
  {
   "cell_type": "markdown",
   "metadata": {},
   "source": [
    "### 1 Region data\n",
    "\n",
    "The translation data comes from [sban's kernel](https://www.kaggle.com/shivamb/in-depth-analysis-visualisations-avito/code)"
   ]
  },
  {
   "cell_type": "code",
   "execution_count": 9,
   "metadata": {},
   "outputs": [],
   "source": [
    "# @hidden_cell\n",
    "parent_category_name_map = {\"Личные вещи\" : \"Personal belongings\",\n",
    "                            \"Для дома и дачи\" : \"For the home and garden\",\n",
    "                            \"Бытовая электроника\" : \"Consumer electronics\",\n",
    "                            \"Недвижимость\" : \"Real estate\",\n",
    "                            \"Хобби и отдых\" : \"Hobbies & leisure\",\n",
    "                            \"Транспорт\" : \"Transport\",\n",
    "                            \"Услуги\" : \"Services\",\n",
    "                            \"Животные\" : \"Animals\",\n",
    "                            \"Для бизнеса\" : \"For business\"}\n",
    "\n",
    "region_map = {\"Свердловская область\" : \"Sverdlovsk oblast\",\n",
    "            \"Самарская область\" : \"Samara oblast\",\n",
    "            \"Ростовская область\" : \"Rostov oblast\",\n",
    "            \"Татарстан\" : \"Tatarstan\",\n",
    "            \"Волгоградская область\" : \"Volgograd oblast\",\n",
    "            \"Нижегородская область\" : \"Nizhny Novgorod oblast\",\n",
    "            \"Пермский край\" : \"Perm Krai\",\n",
    "            \"Оренбургская область\" : \"Orenburg oblast\",\n",
    "            \"Ханты-Мансийский АО\" : \"Khanty-Mansi Autonomous Okrug\",\n",
    "            \"Тюменская область\" : \"Tyumen oblast\",\n",
    "            \"Башкортостан\" : \"Bashkortostan\",\n",
    "            \"Краснодарский край\" : \"Krasnodar Krai\",\n",
    "            \"Новосибирская область\" : \"Novosibirsk oblast\",\n",
    "            \"Омская область\" : \"Omsk oblast\",\n",
    "            \"Белгородская область\" : \"Belgorod oblast\",\n",
    "            \"Челябинская область\" : \"Chelyabinsk oblast\",\n",
    "            \"Воронежская область\" : \"Voronezh oblast\",\n",
    "            \"Кемеровская область\" : \"Kemerovo oblast\",\n",
    "            \"Саратовская область\" : \"Saratov oblast\",\n",
    "            \"Владимирская область\" : \"Vladimir oblast\",\n",
    "            \"Калининградская область\" : \"Kaliningrad oblast\",\n",
    "            \"Красноярский край\" : \"Krasnoyarsk Krai\",\n",
    "            \"Ярославская область\" : \"Yaroslavl oblast\",\n",
    "            \"Удмуртия\" : \"Udmurtia\",\n",
    "            \"Алтайский край\" : \"Altai Krai\",\n",
    "            \"Иркутская область\" : \"Irkutsk oblast\",\n",
    "            \"Ставропольский край\" : \"Stavropol Krai\",\n",
    "            \"Тульская область\" : \"Tula oblast\"}\n",
    "\n",
    "\n",
    "category_map = {\"Одежда, обувь, аксессуары\":\"Clothing, shoes, accessories\",\n",
    "\"Детская одежда и обувь\":\"Children's clothing and shoes\",\n",
    "\"Товары для детей и игрушки\":\"Children's products and toys\",\n",
    "\"Квартиры\":\"Apartments\",\n",
    "\"Телефоны\":\"Phones\",\n",
    "\"Мебель и интерьер\":\"Furniture and interior\",\n",
    "\"Предложение услуг\":\"Offer services\",\n",
    "\"Автомобили\":\"Cars\",\n",
    "\"Ремонт и строительство\":\"Repair and construction\",\n",
    "\"Бытовая техника\":\"Appliances\",\n",
    "\"Товары для компьютера\":\"Products for computer\",\n",
    "\"Дома, дачи, коттеджи\":\"Houses, villas, cottages\",\n",
    "\"Красота и здоровье\":\"Health and beauty\",\n",
    "\"Аудио и видео\":\"Audio and video\",\n",
    "\"Спорт и отдых\":\"Sports and recreation\",\n",
    "\"Коллекционирование\":\"Collecting\",\n",
    "\"Оборудование для бизнеса\":\"Equipment for business\",\n",
    "\"Земельные участки\":\"Land\",\n",
    "\"Часы и украшения\":\"Watches and jewelry\",\n",
    "\"Книги и журналы\":\"Books and magazines\",\n",
    "\"Собаки\":\"Dogs\",\n",
    "\"Игры, приставки и программы\":\"Games, consoles and software\",\n",
    "\"Другие животные\":\"Other animals\",\n",
    "\"Велосипеды\":\"Bikes\",\n",
    "\"Ноутбуки\":\"Laptops\",\n",
    "\"Кошки\":\"Cats\",\n",
    "\"Грузовики и спецтехника\":\"Trucks and buses\",\n",
    "\"Посуда и товары для кухни\":\"Tableware and goods for kitchen\",\n",
    "\"Растения\":\"Plants\",\n",
    "\"Планшеты и электронные книги\":\"Tablets and e-books\",\n",
    "\"Товары для животных\":\"Pet products\",\n",
    "\"Комнаты\":\"Room\",\n",
    "\"Фототехника\":\"Photo\",\n",
    "\"Коммерческая недвижимость\":\"Commercial property\",\n",
    "\"Гаражи и машиноместа\":\"Garages and Parking spaces\",\n",
    "\"Музыкальные инструменты\":\"Musical instruments\",\n",
    "\"Оргтехника и расходники\":\"Office equipment and consumables\",\n",
    "\"Птицы\":\"Birds\",\n",
    "\"Продукты питания\":\"Food\",\n",
    "\"Мотоциклы и мототехника\":\"Motorcycles and bikes\",\n",
    "\"Настольные компьютеры\":\"Desktop computers\",\n",
    "\"Аквариум\":\"Aquarium\",\n",
    "\"Охота и рыбалка\":\"Hunting and fishing\",\n",
    "\"Билеты и путешествия\":\"Tickets and travel\",\n",
    "\"Водный транспорт\":\"Water transport\",\n",
    "\"Готовый бизнес\":\"Ready business\",\n",
    "\"Недвижимость за рубежом\":\"Property abroad\"}"
   ]
  },
  {
   "cell_type": "code",
   "execution_count": 10,
   "metadata": {},
   "outputs": [],
   "source": [
    "# map translation to the trainning data\\\n",
    "for df in full_dp:\n",
    "    df['region_en'] = df['region'].apply(lambda x : region_map[x])\n",
    "    df['parent_category_name_en'] = df['parent_category_name'].apply(lambda x : parent_category_name_map[x])\n",
    "    df['category_name_en'] = df['category_name'].apply(lambda x : category_map[x])"
   ]
  },
  {
   "cell_type": "code",
   "execution_count": 11,
   "metadata": {},
   "outputs": [
    {
     "data": {
      "text/html": [
       "<div>\n",
       "<style scoped>\n",
       "    .dataframe tbody tr th:only-of-type {\n",
       "        vertical-align: middle;\n",
       "    }\n",
       "\n",
       "    .dataframe tbody tr th {\n",
       "        vertical-align: top;\n",
       "    }\n",
       "\n",
       "    .dataframe thead th {\n",
       "        text-align: right;\n",
       "    }\n",
       "</style>\n",
       "<table border=\"1\" class=\"dataframe\">\n",
       "  <thead>\n",
       "    <tr style=\"text-align: right;\">\n",
       "      <th></th>\n",
       "      <th>item_id</th>\n",
       "      <th>user_id</th>\n",
       "      <th>region</th>\n",
       "      <th>city</th>\n",
       "      <th>parent_category_name</th>\n",
       "      <th>category_name</th>\n",
       "      <th>param_1</th>\n",
       "      <th>param_2</th>\n",
       "      <th>param_3</th>\n",
       "      <th>title</th>\n",
       "      <th>...</th>\n",
       "      <th>price</th>\n",
       "      <th>item_seq_number</th>\n",
       "      <th>activation_date</th>\n",
       "      <th>user_type</th>\n",
       "      <th>image</th>\n",
       "      <th>image_top_1</th>\n",
       "      <th>deal_probability</th>\n",
       "      <th>region_en</th>\n",
       "      <th>parent_category_name_en</th>\n",
       "      <th>category_name_en</th>\n",
       "    </tr>\n",
       "  </thead>\n",
       "  <tbody>\n",
       "    <tr>\n",
       "      <th>0</th>\n",
       "      <td>b912c3c6a6ad</td>\n",
       "      <td>e00f8ff2eaf9</td>\n",
       "      <td>Свердловская область</td>\n",
       "      <td>Екатеринбург</td>\n",
       "      <td>Личные вещи</td>\n",
       "      <td>Товары для детей и игрушки</td>\n",
       "      <td>Постельные принадлежности</td>\n",
       "      <td>NaN</td>\n",
       "      <td>NaN</td>\n",
       "      <td>Кокоби(кокон для сна)</td>\n",
       "      <td>...</td>\n",
       "      <td>400.0</td>\n",
       "      <td>2</td>\n",
       "      <td>2017-03-28</td>\n",
       "      <td>Private</td>\n",
       "      <td>d10c7e016e03247a3bf2d13348fe959fe6f436c1caf64c...</td>\n",
       "      <td>1008.0</td>\n",
       "      <td>0.12789</td>\n",
       "      <td>Sverdlovsk oblast</td>\n",
       "      <td>Personal belongings</td>\n",
       "      <td>Children's products and toys</td>\n",
       "    </tr>\n",
       "    <tr>\n",
       "      <th>1</th>\n",
       "      <td>2dac0150717d</td>\n",
       "      <td>39aeb48f0017</td>\n",
       "      <td>Самарская область</td>\n",
       "      <td>Самара</td>\n",
       "      <td>Для дома и дачи</td>\n",
       "      <td>Мебель и интерьер</td>\n",
       "      <td>Другое</td>\n",
       "      <td>NaN</td>\n",
       "      <td>NaN</td>\n",
       "      <td>Стойка для Одежды</td>\n",
       "      <td>...</td>\n",
       "      <td>3000.0</td>\n",
       "      <td>19</td>\n",
       "      <td>2017-03-26</td>\n",
       "      <td>Private</td>\n",
       "      <td>79c9392cc51a9c81c6eb91eceb8e552171db39d7142700...</td>\n",
       "      <td>692.0</td>\n",
       "      <td>0.00000</td>\n",
       "      <td>Samara oblast</td>\n",
       "      <td>For the home and garden</td>\n",
       "      <td>Furniture and interior</td>\n",
       "    </tr>\n",
       "    <tr>\n",
       "      <th>2</th>\n",
       "      <td>ba83aefab5dc</td>\n",
       "      <td>91e2f88dd6e3</td>\n",
       "      <td>Ростовская область</td>\n",
       "      <td>Ростов-на-Дону</td>\n",
       "      <td>Бытовая электроника</td>\n",
       "      <td>Аудио и видео</td>\n",
       "      <td>Видео, DVD и Blu-ray плееры</td>\n",
       "      <td>NaN</td>\n",
       "      <td>NaN</td>\n",
       "      <td>Philips bluray</td>\n",
       "      <td>...</td>\n",
       "      <td>4000.0</td>\n",
       "      <td>9</td>\n",
       "      <td>2017-03-20</td>\n",
       "      <td>Private</td>\n",
       "      <td>b7f250ee3f39e1fedd77c141f273703f4a9be59db4b48a...</td>\n",
       "      <td>3032.0</td>\n",
       "      <td>0.43177</td>\n",
       "      <td>Rostov oblast</td>\n",
       "      <td>Consumer electronics</td>\n",
       "      <td>Audio and video</td>\n",
       "    </tr>\n",
       "    <tr>\n",
       "      <th>3</th>\n",
       "      <td>02996f1dd2ea</td>\n",
       "      <td>bf5cccea572d</td>\n",
       "      <td>Татарстан</td>\n",
       "      <td>Набережные Челны</td>\n",
       "      <td>Личные вещи</td>\n",
       "      <td>Товары для детей и игрушки</td>\n",
       "      <td>Автомобильные кресла</td>\n",
       "      <td>NaN</td>\n",
       "      <td>NaN</td>\n",
       "      <td>Автокресло</td>\n",
       "      <td>...</td>\n",
       "      <td>2200.0</td>\n",
       "      <td>286</td>\n",
       "      <td>2017-03-25</td>\n",
       "      <td>Company</td>\n",
       "      <td>e6ef97e0725637ea84e3d203e82dadb43ed3cc0a1c8413...</td>\n",
       "      <td>796.0</td>\n",
       "      <td>0.80323</td>\n",
       "      <td>Tatarstan</td>\n",
       "      <td>Personal belongings</td>\n",
       "      <td>Children's products and toys</td>\n",
       "    </tr>\n",
       "    <tr>\n",
       "      <th>4</th>\n",
       "      <td>7c90be56d2ab</td>\n",
       "      <td>ef50846afc0b</td>\n",
       "      <td>Волгоградская область</td>\n",
       "      <td>Волгоград</td>\n",
       "      <td>Транспорт</td>\n",
       "      <td>Автомобили</td>\n",
       "      <td>С пробегом</td>\n",
       "      <td>ВАЗ (LADA)</td>\n",
       "      <td>2110</td>\n",
       "      <td>ВАЗ 2110, 2003</td>\n",
       "      <td>...</td>\n",
       "      <td>40000.0</td>\n",
       "      <td>3</td>\n",
       "      <td>2017-03-16</td>\n",
       "      <td>Private</td>\n",
       "      <td>54a687a3a0fc1d68aed99bdaaf551c5c70b761b16fd0a2...</td>\n",
       "      <td>2264.0</td>\n",
       "      <td>0.20797</td>\n",
       "      <td>Volgograd oblast</td>\n",
       "      <td>Transport</td>\n",
       "      <td>Cars</td>\n",
       "    </tr>\n",
       "  </tbody>\n",
       "</table>\n",
       "<p>5 rows × 21 columns</p>\n",
       "</div>"
      ],
      "text/plain": [
       "        item_id       user_id                 region              city  \\\n",
       "0  b912c3c6a6ad  e00f8ff2eaf9   Свердловская область      Екатеринбург   \n",
       "1  2dac0150717d  39aeb48f0017      Самарская область            Самара   \n",
       "2  ba83aefab5dc  91e2f88dd6e3     Ростовская область    Ростов-на-Дону   \n",
       "3  02996f1dd2ea  bf5cccea572d              Татарстан  Набережные Челны   \n",
       "4  7c90be56d2ab  ef50846afc0b  Волгоградская область         Волгоград   \n",
       "\n",
       "  parent_category_name               category_name  \\\n",
       "0          Личные вещи  Товары для детей и игрушки   \n",
       "1      Для дома и дачи           Мебель и интерьер   \n",
       "2  Бытовая электроника               Аудио и видео   \n",
       "3          Личные вещи  Товары для детей и игрушки   \n",
       "4            Транспорт                  Автомобили   \n",
       "\n",
       "                       param_1     param_2 param_3                  title  \\\n",
       "0    Постельные принадлежности         NaN     NaN  Кокоби(кокон для сна)   \n",
       "1                       Другое         NaN     NaN      Стойка для Одежды   \n",
       "2  Видео, DVD и Blu-ray плееры         NaN     NaN         Philips bluray   \n",
       "3         Автомобильные кресла         NaN     NaN             Автокресло   \n",
       "4                   С пробегом  ВАЗ (LADA)    2110         ВАЗ 2110, 2003   \n",
       "\n",
       "               ...                 price  item_seq_number  activation_date  \\\n",
       "0              ...                 400.0                2       2017-03-28   \n",
       "1              ...                3000.0               19       2017-03-26   \n",
       "2              ...                4000.0                9       2017-03-20   \n",
       "3              ...                2200.0              286       2017-03-25   \n",
       "4              ...               40000.0                3       2017-03-16   \n",
       "\n",
       "  user_type                                              image image_top_1  \\\n",
       "0   Private  d10c7e016e03247a3bf2d13348fe959fe6f436c1caf64c...      1008.0   \n",
       "1   Private  79c9392cc51a9c81c6eb91eceb8e552171db39d7142700...       692.0   \n",
       "2   Private  b7f250ee3f39e1fedd77c141f273703f4a9be59db4b48a...      3032.0   \n",
       "3   Company  e6ef97e0725637ea84e3d203e82dadb43ed3cc0a1c8413...       796.0   \n",
       "4   Private  54a687a3a0fc1d68aed99bdaaf551c5c70b761b16fd0a2...      2264.0   \n",
       "\n",
       "   deal_probability          region_en  parent_category_name_en  \\\n",
       "0           0.12789  Sverdlovsk oblast      Personal belongings   \n",
       "1           0.00000      Samara oblast  For the home and garden   \n",
       "2           0.43177      Rostov oblast     Consumer electronics   \n",
       "3           0.80323          Tatarstan      Personal belongings   \n",
       "4           0.20797   Volgograd oblast                Transport   \n",
       "\n",
       "               category_name_en  \n",
       "0  Children's products and toys  \n",
       "1        Furniture and interior  \n",
       "2               Audio and video  \n",
       "3  Children's products and toys  \n",
       "4                          Cars  \n",
       "\n",
       "[5 rows x 21 columns]"
      ]
     },
     "execution_count": 11,
     "metadata": {},
     "output_type": "execute_result"
    }
   ],
   "source": [
    "# snap_shot of the training data\n",
    "train_dp.head()"
   ]
  },
  {
   "cell_type": "code",
   "execution_count": 12,
   "metadata": {},
   "outputs": [
    {
     "name": "stdout",
     "output_type": "stream",
     "text": [
      "2707593481ee0d272038e87763ca30bbea7f48939e45ab19571d9784e38ea52a\n"
     ]
    }
   ],
   "source": [
    "print(train_dp.image[100])"
   ]
  },
  {
   "cell_type": "markdown",
   "metadata": {
    "_cell_guid": "e548f31a-b775-44f8-a592-799b3315ace0",
    "_uuid": "1b08d1ce4600703e9d430ce0fa58771f3c9b36d5"
   },
   "source": [
    "### The major challenge for this dataset is to make sence of Russian vocabulary\n",
    "\n",
    "- Either get translation API to translated in to English\n",
    "- Deal with synnonymous in Russian database"
   ]
  },
  {
   "cell_type": "code",
   "execution_count": 13,
   "metadata": {
    "_cell_guid": "5eb8be89-2052-4c38-8b35-24df778fe109",
    "_uuid": "8391f0d16f080b5efdc9cc486c043d32c5d447cd"
   },
   "outputs": [
    {
     "data": {
      "text/html": [
       "<div>\n",
       "<style scoped>\n",
       "    .dataframe tbody tr th:only-of-type {\n",
       "        vertical-align: middle;\n",
       "    }\n",
       "\n",
       "    .dataframe tbody tr th {\n",
       "        vertical-align: top;\n",
       "    }\n",
       "\n",
       "    .dataframe thead th {\n",
       "        text-align: right;\n",
       "    }\n",
       "</style>\n",
       "<table border=\"1\" class=\"dataframe\">\n",
       "  <thead>\n",
       "    <tr style=\"text-align: right;\">\n",
       "      <th></th>\n",
       "      <th>item_id</th>\n",
       "    </tr>\n",
       "    <tr>\n",
       "      <th>parent_category_name_en</th>\n",
       "      <th></th>\n",
       "    </tr>\n",
       "  </thead>\n",
       "  <tbody>\n",
       "    <tr>\n",
       "      <th>Animals</th>\n",
       "      <td>52470</td>\n",
       "    </tr>\n",
       "    <tr>\n",
       "      <th>Consumer electronics</th>\n",
       "      <td>173008</td>\n",
       "    </tr>\n",
       "    <tr>\n",
       "      <th>For business</th>\n",
       "      <td>18075</td>\n",
       "    </tr>\n",
       "    <tr>\n",
       "      <th>For the home and garden</th>\n",
       "      <td>178823</td>\n",
       "    </tr>\n",
       "    <tr>\n",
       "      <th>Hobbies &amp; leisure</th>\n",
       "      <td>86011</td>\n",
       "    </tr>\n",
       "    <tr>\n",
       "      <th>Personal belongings</th>\n",
       "      <td>697623</td>\n",
       "    </tr>\n",
       "    <tr>\n",
       "      <th>Real estate</th>\n",
       "      <td>153190</td>\n",
       "    </tr>\n",
       "    <tr>\n",
       "      <th>Services</th>\n",
       "      <td>64385</td>\n",
       "    </tr>\n",
       "    <tr>\n",
       "      <th>Transport</th>\n",
       "      <td>79839</td>\n",
       "    </tr>\n",
       "  </tbody>\n",
       "</table>\n",
       "</div>"
      ],
      "text/plain": [
       "                         item_id\n",
       "parent_category_name_en         \n",
       "Animals                    52470\n",
       "Consumer electronics      173008\n",
       "For business               18075\n",
       "For the home and garden   178823\n",
       "Hobbies & leisure          86011\n",
       "Personal belongings       697623\n",
       "Real estate               153190\n",
       "Services                   64385\n",
       "Transport                  79839"
      ]
     },
     "execution_count": 13,
     "metadata": {},
     "output_type": "execute_result"
    }
   ],
   "source": [
    "# how many category_name does test and train data possess\n",
    "cata_group = train_dp[['item_id','parent_category_name_en']].groupby('parent_category_name_en')\n",
    "cata_group.count()"
   ]
  },
  {
   "cell_type": "code",
   "execution_count": 14,
   "metadata": {},
   "outputs": [
    {
     "data": {
      "text/html": [
       "<div>\n",
       "<style scoped>\n",
       "    .dataframe tbody tr th:only-of-type {\n",
       "        vertical-align: middle;\n",
       "    }\n",
       "\n",
       "    .dataframe tbody tr th {\n",
       "        vertical-align: top;\n",
       "    }\n",
       "\n",
       "    .dataframe thead th {\n",
       "        text-align: right;\n",
       "    }\n",
       "</style>\n",
       "<table border=\"1\" class=\"dataframe\">\n",
       "  <thead>\n",
       "    <tr style=\"text-align: right;\">\n",
       "      <th></th>\n",
       "      <th>item_id</th>\n",
       "    </tr>\n",
       "    <tr>\n",
       "      <th>parent_category_name_en</th>\n",
       "      <th></th>\n",
       "    </tr>\n",
       "  </thead>\n",
       "  <tbody>\n",
       "    <tr>\n",
       "      <th>Animals</th>\n",
       "      <td>19976</td>\n",
       "    </tr>\n",
       "    <tr>\n",
       "      <th>Consumer electronics</th>\n",
       "      <td>58282</td>\n",
       "    </tr>\n",
       "    <tr>\n",
       "      <th>For business</th>\n",
       "      <td>6463</td>\n",
       "    </tr>\n",
       "    <tr>\n",
       "      <th>For the home and garden</th>\n",
       "      <td>64910</td>\n",
       "    </tr>\n",
       "    <tr>\n",
       "      <th>Hobbies &amp; leisure</th>\n",
       "      <td>31271</td>\n",
       "    </tr>\n",
       "    <tr>\n",
       "      <th>Personal belongings</th>\n",
       "      <td>216577</td>\n",
       "    </tr>\n",
       "    <tr>\n",
       "      <th>Real estate</th>\n",
       "      <td>57387</td>\n",
       "    </tr>\n",
       "    <tr>\n",
       "      <th>Services</th>\n",
       "      <td>23619</td>\n",
       "    </tr>\n",
       "    <tr>\n",
       "      <th>Transport</th>\n",
       "      <td>29953</td>\n",
       "    </tr>\n",
       "  </tbody>\n",
       "</table>\n",
       "</div>"
      ],
      "text/plain": [
       "                         item_id\n",
       "parent_category_name_en         \n",
       "Animals                    19976\n",
       "Consumer electronics       58282\n",
       "For business                6463\n",
       "For the home and garden    64910\n",
       "Hobbies & leisure          31271\n",
       "Personal belongings       216577\n",
       "Real estate                57387\n",
       "Services                   23619\n",
       "Transport                  29953"
      ]
     },
     "execution_count": 14,
     "metadata": {},
     "output_type": "execute_result"
    }
   ],
   "source": [
    "# how many category_name does test and train data possess\n",
    "cata_group = test_dp[['item_id','parent_category_name_en']].groupby('parent_category_name_en')\n",
    "cata_group.count()"
   ]
  },
  {
   "cell_type": "code",
   "execution_count": 15,
   "metadata": {
    "_cell_guid": "995c9327-cd0a-4638-a6f8-2d6cd0c011e3",
    "_uuid": "45af66fd88e5ff0360976606a054c7d09bc6d1fe"
   },
   "outputs": [
    {
     "data": {
      "text/plain": [
       "([0, 1, 2, 3, 4, 5, 6, 7, 8], <a list of 9 Text xticklabel objects>)"
      ]
     },
     "execution_count": 15,
     "metadata": {},
     "output_type": "execute_result"
    },
    {
     "data": {
      "image/png": "[encoded data removed]",
      "text/plain": [
       "<Figure size 432x288 with 1 Axes>"
      ]
     },
     "metadata": {},
     "output_type": "display_data"
    }
   ],
   "source": [
    "g = plt.bar(cata_group.count().index,cata_group.count().item_id)\n",
    "plt.xticks(rotation=90)"
   ]
  },
  {
   "cell_type": "code",
   "execution_count": null,
   "metadata": {
    "_cell_guid": "f13f8469-6e09-4eb5-9300-2fe7fbcf2653",
    "_uuid": "9cbbed4ef668e7ba176109e8a1e996cfa5318e83"
   },
   "outputs": [],
   "source": [
    "g = sns.factorplot(x=\"parent_category_name_en\",y=\"deal_probability\",data=train_dp,kind=\"bar\", size = 5, aspect=2,\n",
    "palette = \"muted\")\n",
    "g.despine(left=True)\n",
    "g.set_xticklabels(rotation=30)\n",
    "g = g.set_ylabels(\"deal probability\")"
   ]
  },
  {
   "cell_type": "code",
   "execution_count": null,
   "metadata": {
    "_cell_guid": "deeac614-f48c-4991-abdd-6b4edb8436bc",
    "_uuid": "fac349dc67ebba3c83997d77d24940c032a8cf0b"
   },
   "outputs": [],
   "source": [
    "g = sns.factorplot(x=\"parent_category_name_en\",y=\"price\",data=train_dp,kind=\"bar\", size = 5, aspect=2,\n",
    "palette = \"muted\")\n",
    "g.despine(left=True)\n",
    "g.fig.get_axes()[0].set_yscale('log')\n",
    "g.set_xticklabels(rotation=30)\n",
    "g = g.set_ylabels(\"price (logscale)\")"
   ]
  },
  {
   "cell_type": "code",
   "execution_count": null,
   "metadata": {},
   "outputs": [],
   "source": [
    "g = sns.boxplot(x=\"region_en\",y=\"deal_probability\",data=train_dp,palette = \"muted\")\n",
    "plt.xticks(rotation='vertical')"
   ]
  },
  {
   "cell_type": "code",
   "execution_count": null,
   "metadata": {},
   "outputs": [],
   "source": [
    "g = sns.factorplot(x=\"user_type\",y=\"deal_probability\",data=train_dp,kind=\"bar\", size = 5, aspect=1,\n",
    "palette = \"muted\")\n",
    "g.despine(left=True)\n",
    "g = g.set_ylabels(\"deal probability\")"
   ]
  },
  {
   "cell_type": "code",
   "execution_count": null,
   "metadata": {},
   "outputs": [],
   "source": [
    "# # date time features\n",
    "# for data in full_dp:\n",
    "#     data['weekday'] = data.activation_date.dt.weekday\n",
    "#     data['month'] = data.activation_date.dt.month\n",
    "#     data['day'] = data.activation_date.dt.day\n",
    "#     data['week'] = data.activation_date.dt.week "
   ]
  },
  {
   "cell_type": "code",
   "execution_count": null,
   "metadata": {},
   "outputs": [],
   "source": [
    "sns.set(rc={'figure.figsize':(15, 8)})\n",
    "sns.boxplot(x=\"parent_category_name_en\", y=\"deal_probability\", hue=\"user_type\",  palette=\"muted\", data=train_dp)\n",
    "plt.title(\"Deal probability by parent category and User Type\")\n",
    "plt.xticks(rotation=30)\n",
    "plt.show()"
   ]
  },
  {
   "cell_type": "code",
   "execution_count": null,
   "metadata": {},
   "outputs": [],
   "source": [
    "train_dp.head()"
   ]
  },
  {
   "cell_type": "markdown",
   "metadata": {},
   "source": [
    "# Deal with NA"
   ]
  },
  {
   "cell_type": "markdown",
   "metadata": {},
   "source": [
    "#### 1. Price\n",
    "rescale the price by log and fill na with parent_categorical median\n"
   ]
  },
  {
   "cell_type": "code",
   "execution_count": null,
   "metadata": {},
   "outputs": [],
   "source": [
    "for df in full_dp:\n",
    "    df['price'] = np.log(df['price']+0.001)"
   ]
  },
  {
   "cell_type": "code",
   "execution_count": null,
   "metadata": {},
   "outputs": [],
   "source": [
    "catagorical_meanPrice = train_dp.groupby('parent_category_name_en')['price'].mean()\n",
    "catagorical_meanPrice"
   ]
  },
  {
   "cell_type": "code",
   "execution_count": null,
   "metadata": {},
   "outputs": [],
   "source": [
    "g = sns.factorplot(x=\"parent_category_name_en\",y=\"price\",data=train_dp,kind=\"bar\", size = 5, aspect=2,\n",
    "palette = \"muted\", order =catagorical_meanPrice.index.tolist())\n",
    "g.despine(left=True)\n",
    "g.set_xticklabels(rotation=30)\n",
    "g = g.set_ylabels(\"log_price\")"
   ]
  },
  {
   "cell_type": "code",
   "execution_count": null,
   "metadata": {},
   "outputs": [],
   "source": [
    "g = sns.factorplot(x=\"parent_category_name_en\",y=\"price\",data=test_dp,kind=\"bar\", size = 5, aspect=2,\n",
    "palette = \"muted\",order =catagorical_meanPrice.index.tolist())\n",
    "g.despine(left=True)\n",
    "g.set_xticklabels(rotation=30)\n",
    "g = g.set_ylabels(\"log_price\")"
   ]
  },
  {
   "cell_type": "code",
   "execution_count": null,
   "metadata": {},
   "outputs": [],
   "source": [
    "g = sns.factorplot(x=\"category_name_en\",y=\"price\",data=train_dp,kind=\"bar\", size = 5, aspect=2,\n",
    "palette = \"muted\")\n",
    "g.despine(left=True)\n",
    "g.set_xticklabels(rotation=90)\n",
    "g = g.set_ylabels(\"log_price\")"
   ]
  },
  {
   "cell_type": "code",
   "execution_count": null,
   "metadata": {},
   "outputs": [],
   "source": [
    "catagorical_meanPrice = train_dp.groupby('parent_category_name_en')['price'].mean()\n",
    "catagorical_meanPrice"
   ]
  },
  {
   "cell_type": "code",
   "execution_count": null,
   "metadata": {},
   "outputs": [],
   "source": [
    "catagorical_meanPrice = test_dp.groupby('parent_category_name_en')['price'].mean()\n",
    "catagorical_meanPrice"
   ]
  },
  {
   "cell_type": "code",
   "execution_count": null,
   "metadata": {},
   "outputs": [],
   "source": [
    "def impute_median(series):\n",
    "    return series.fillna(series.median())"
   ]
  },
  {
   "cell_type": "code",
   "execution_count": null,
   "metadata": {},
   "outputs": [],
   "source": [
    "for df in full_dp:\n",
    "    by_category = df.groupby('parent_category_name_en')\n",
    "    df.price = by_category.price.transform(impute_median)"
   ]
  },
  {
   "cell_type": "markdown",
   "metadata": {},
   "source": [
    "### 2.  Image_top1"
   ]
  },
  {
   "cell_type": "code",
   "execution_count": null,
   "metadata": {},
   "outputs": [],
   "source": [
    "for df in full_dp:\n",
    "    df[\"image_top_1\"].fillna(-999,inplace=True)"
   ]
  },
  {
   "cell_type": "markdown",
   "metadata": {},
   "source": [
    "# Create new features"
   ]
  },
  {
   "cell_type": "markdown",
   "metadata": {},
   "source": [
    "Get activation weekdays from activation_date"
   ]
  },
  {
   "cell_type": "code",
   "execution_count": null,
   "metadata": {},
   "outputs": [],
   "source": [
    "for df in full_dp:\n",
    "    df[\"Weekday\"] = df['activation_date'].dt.weekday"
   ]
  },
  {
   "cell_type": "code",
   "execution_count": null,
   "metadata": {},
   "outputs": [],
   "source": [
    "by_weekday = train_dp.groupby('Weekday')"
   ]
  },
  {
   "cell_type": "code",
   "execution_count": null,
   "metadata": {},
   "outputs": [],
   "source": [
    "by_weekday['deal_probability'].mean()"
   ]
  },
  {
   "cell_type": "markdown",
   "metadata": {},
   "source": [
    "Tile and description words"
   ]
  },
  {
   "cell_type": "code",
   "execution_count": null,
   "metadata": {},
   "outputs": [],
   "source": [
    "for df in full_dp:\n",
    "    df[\"title_nwords\"] = df[\"title\"].apply(lambda x: len(x.split()))\n",
    "    \n",
    "    df[\"description\"].fillna(\"missing\", inplace=True)\n",
    "    df[\"desc_nwords\"] = df[\"description\"].apply(lambda x: len(x.split()))\n"
   ]
  },
  {
   "cell_type": "code",
   "execution_count": null,
   "metadata": {},
   "outputs": [],
   "source": [
    "train_dp.groupby('title_nwords')['deal_probability'].mean()"
   ]
  },
  {
   "cell_type": "code",
   "execution_count": null,
   "metadata": {},
   "outputs": [],
   "source": [
    "train_dp.groupby('title_nwords')['deal_probability'].count()"
   ]
  },
  {
   "cell_type": "code",
   "execution_count": null,
   "metadata": {},
   "outputs": [],
   "source": [
    "train_dp.groupby('desc_nwords')['deal_probability'].mean()"
   ]
  },
  {
   "cell_type": "code",
   "execution_count": null,
   "metadata": {},
   "outputs": [],
   "source": [
    "train_dp.groupby('desc_nwords')['deal_probability'].count()"
   ]
  },
  {
   "cell_type": "code",
   "execution_count": null,
   "metadata": {},
   "outputs": [],
   "source": [
    "# Label Encoder\n",
    "# https://www.kaggle.com/him4318/avito-lightgbm-with-ridge-feature-v-2-0/code\n",
    "from sklearn import preprocessing\n",
    "\n",
    "print(\"\\nEncode Variables\")\n",
    "categorical = [\"user_id\",\"region\",\"city\",\"parent_category_name\",\"category_name\",\"user_type\",\"image_top_1\",\"param_1\",\"param_2\",\"param_3\"]\n",
    "print(\"Encoding :\",categorical)\n",
    "\n",
    "# Encoder:\n",
    "lbl = preprocessing.LabelEncoder()\n",
    "for col in categorical:\n",
    "    df[col].fillna('Unknown')\n",
    "    df[col] = lbl.fit_transform(df[col].astype(str))\n",
    "    \n",
    "print(\"\\nText Features\")"
   ]
  },
  {
   "cell_type": "code",
   "execution_count": null,
   "metadata": {},
   "outputs": [],
   "source": [
    "df.head()"
   ]
  },
  {
   "cell_type": "markdown",
   "metadata": {},
   "source": [
    "### Try to see if user post numbers will affect the deal probability"
   ]
  },
  {
   "cell_type": "code",
   "execution_count": null,
   "metadata": {},
   "outputs": [],
   "source": [
    "# combine use_id in train and test dataset into a list\n",
    "train_pool = train_dp['user_id'].tolist()\n",
    "test_pool = test_dp['user_id'].tolist()\n",
    "user_pool = train_pool + test_pool "
   ]
  },
  {
   "cell_type": "code",
   "execution_count": null,
   "metadata": {},
   "outputs": [],
   "source": [
    "len(list(set(user_pool)))"
   ]
  },
  {
   "cell_type": "code",
   "execution_count": null,
   "metadata": {},
   "outputs": [],
   "source": [
    "unique, counts = np.unique(user_pool, return_counts=True)"
   ]
  },
  {
   "cell_type": "code",
   "execution_count": null,
   "metadata": {},
   "outputs": [],
   "source": [
    "np.unique(counts,return_counts=True)"
   ]
  },
  {
   "cell_type": "markdown",
   "metadata": {},
   "source": [
    "The most experienced people post 1080."
   ]
  },
  {
   "cell_type": "code",
   "execution_count": null,
   "metadata": {},
   "outputs": [],
   "source": [
    "user_map = {key:val for (key,val) in zip(unique,counts)}"
   ]
  },
  {
   "cell_type": "code",
   "execution_count": null,
   "metadata": {},
   "outputs": [],
   "source": [
    "for df in full_dp:\n",
    "    df['user_post_num'] = df['user_id'].apply(lambda x: user_map[str(x)] if user_map[str(x)]<9 else 10)"
   ]
  },
  {
   "cell_type": "code",
   "execution_count": null,
   "metadata": {},
   "outputs": [],
   "source": [
    "train_dp.head()"
   ]
  },
  {
   "cell_type": "code",
   "execution_count": null,
   "metadata": {},
   "outputs": [],
   "source": [
    "sns.set(rc={'figure.figsize':(15, 8)})\n",
    "sns.barplot(x=\"user_post_num\", y=\"deal_probability\", hue=\"user_type\",  palette=\"muted\", data=train_dp)\n",
    "plt.title(\"Deal probability by parent category and User Type\")\n",
    "plt.xticks(rotation=30)\n",
    "plt.show()"
   ]
  },
  {
   "cell_type": "markdown",
   "metadata": {},
   "source": [
    "### Get the imaging features"
   ]
  },
  {
   "cell_type": "code",
   "execution_count": null,
   "metadata": {},
   "outputs": [],
   "source": [
    "import pickle\n",
    "data_dir = \"../input/\"\n",
    "train_feats_list = ['../input/feats_0.pkl',\n",
    " '../input/feats_1.pkl',\n",
    " '../input/feats_2.pkl',\n",
    " '../input/feats_3.pkl',\n",
    " '../input/feats_4.pkl']\n",
    "train_feats = pd.DataFrame()\n",
    "for pkl in train_feats_list:\n",
    "    df = pd.read_pickle(pkl)\n",
    "    train_feats = train_feats.append(df)\n",
    "test_feats = pd.read_pickle('../input/feats_test_jpg.pkl')"
   ]
  },
  {
   "cell_type": "code",
   "execution_count": null,
   "metadata": {},
   "outputs": [],
   "source": [
    "train_feats.info()"
   ]
  },
  {
   "cell_type": "code",
   "execution_count": null,
   "metadata": {},
   "outputs": [],
   "source": [
    "train_dp.info()"
   ]
  },
  {
   "cell_type": "code",
   "execution_count": null,
   "metadata": {},
   "outputs": [],
   "source": [
    "l1 = train_feats.image.tolist()\n",
    "l2 = train_dp.image.tolist()"
   ]
  },
  {
   "cell_type": "code",
   "execution_count": null,
   "metadata": {},
   "outputs": [],
   "source": [
    "len(set(l1+l2))"
   ]
  },
  {
   "cell_type": "code",
   "execution_count": null,
   "metadata": {},
   "outputs": [],
   "source": [
    "l1"
   ]
  },
  {
   "cell_type": "code",
   "execution_count": null,
   "metadata": {},
   "outputs": [],
   "source": [
    "l2"
   ]
  },
  {
   "cell_type": "code",
   "execution_count": null,
   "metadata": {},
   "outputs": [],
   "source": [
    "train_feats.image.apply(lambda x: x.split('.')[0]).tolist()"
   ]
  },
  {
   "cell_type": "code",
   "execution_count": null,
   "metadata": {},
   "outputs": [],
   "source": [
    "train_feats.image = train_feats.image.apply(lambda x: x.split('.')[0])"
   ]
  },
  {
   "cell_type": "code",
   "execution_count": null,
   "metadata": {},
   "outputs": [],
   "source": [
    "train_dp = pd.merge(train_dp, train_feats,how='outer', on='image')"
   ]
  },
  {
   "cell_type": "code",
   "execution_count": null,
   "metadata": {},
   "outputs": [],
   "source": [
    "train_dp.info()"
   ]
  },
  {
   "cell_type": "code",
   "execution_count": null,
   "metadata": {},
   "outputs": [],
   "source": [
    "train_feats.columns.tolist()"
   ]
  },
  {
   "cell_type": "code",
   "execution_count": null,
   "metadata": {},
   "outputs": [],
   "source": [
    "colormap=plt.cm.RdBu"
   ]
  },
  {
   "cell_type": "code",
   "execution_count": null,
   "metadata": {},
   "outputs": [],
   "source": [
    "train_dp[['apw',\n",
    " 'avg_blue',\n",
    " 'avg_green',\n",
    " 'avg_red',\n",
    " 'blurrness',\n",
    " 'dullness',\n",
    " 'height',\n",
    " 'size',\n",
    " 'whiteness',\n",
    " 'width']].fillna('0')"
   ]
  },
  {
   "cell_type": "code",
   "execution_count": null,
   "metadata": {},
   "outputs": [],
   "source": [
    "train_dp.info()"
   ]
  },
  {
   "cell_type": "code",
   "execution_count": null,
   "metadata": {},
   "outputs": [],
   "source": [
    "dp = train_dp"
   ]
  },
  {
   "cell_type": "code",
   "execution_count": null,
   "metadata": {},
   "outputs": [],
   "source": [
    "train_dp.fillna({'apw':0,\n",
    " 'avg_blue':0,\n",
    " 'avg_green':0,\n",
    " 'avg_red':0,\n",
    " 'blurrness':100,\n",
    " 'dullness':100,\n",
    " 'height':0,\n",
    " 'size':0,\n",
    " 'whiteness':0,\n",
    " 'width':0},inplace=True)"
   ]
  },
  {
   "cell_type": "code",
   "execution_count": null,
   "metadata": {},
   "outputs": [],
   "source": [
    "corr_feats = train_dp[['apw',\n",
    " 'avg_blue',\n",
    " 'avg_green',\n",
    " 'avg_red',\n",
    " 'blurrness',\n",
    " 'dullness',\n",
    " 'height',\n",
    " 'size',\n",
    " 'whiteness',\n",
    " 'width','deal_probability']]"
   ]
  },
  {
   "cell_type": "code",
   "execution_count": null,
   "metadata": {},
   "outputs": [],
   "source": [
    "rescale_feats = [\n",
    " 'blurrness',\n",
    " 'dullness',\n",
    " 'height',\n",
    " 'size',\n",
    " 'whiteness',\n",
    " 'width']\n",
    "for i in rescale_feats:\n",
    "    train_feats[i] = train_feats[i].apply(lambda x: np.log(x+1))"
   ]
  },
  {
   "cell_type": "code",
   "execution_count": null,
   "metadata": {},
   "outputs": [],
   "source": [
    "colormap = plt.cm.RdBu\n",
    "plt.figure(figsize=(16,18))\n",
    "plt.title('Pearson Correlation of Features', y=1.05, size=20)\n",
    "sns.heatmap(corr_feats.astype(float).corr(),linewidths=0.1,vmax=1.0, \n",
    "            square=True, cmap=colormap, linecolor='Black', annot=True)"
   ]
  },
  {
   "cell_type": "code",
   "execution_count": null,
   "metadata": {},
   "outputs": [],
   "source": []
  }
 ],
 "metadata": {
  "kernelspec": {
   "display_name": "Python 3",
   "language": "python",
   "name": "python3"
  },
  "language_info": {
   "codemirror_mode": {
    "name": "ipython",
    "version": 3
   },
   "file_extension": ".py",
   "mimetype": "text/x-python",
   "name": "python",
   "nbconvert_exporter": "python",
   "pygments_lexer": "ipython3",
   "version": "3.6.5"
  }
 },
 "nbformat": 4,
 "nbformat_minor": 1
}
